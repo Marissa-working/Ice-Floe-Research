{
 "cells": [
  {
   "cell_type": "code",
   "execution_count": 53,
   "id": "4eefd151",
   "metadata": {},
   "outputs": [],
   "source": [
    "import time\n",
    "import random\n",
    "import matplotlib.pyplot as plt \n",
    "import matplotlib.patches as patches"
   ]
  },
  {
   "cell_type": "code",
   "execution_count": 2,
   "id": "1d9eae58",
   "metadata": {},
   "outputs": [],
   "source": [
    "#reference: https://jrtechs.net/data-science/implementing-a-quadtree-in-python"
   ]
  },
  {
   "cell_type": "markdown",
   "id": "273d33f0",
   "metadata": {},
   "source": [
    "## Node class"
   ]
  },
  {
   "cell_type": "code",
   "execution_count": 3,
   "id": "fb5be1a2",
   "metadata": {},
   "outputs": [],
   "source": [
    "# Node class is a rectangle in the quardtree\n",
    "# with (x0, y0) as coordinates, w as width, h as height\n",
    "class Node():\n",
    "    def __init__(self, x0, y0, w, h):\n",
    "        self.x0 = x0\n",
    "        self.y0 = y0\n",
    "        self.width = w\n",
    "        self.height = h\n",
    "        self.children = []\n",
    "\n",
    "    def get_location(self):\n",
    "        return (self.x0, self.yo)\n",
    "    \n",
    "    def get_width(self):\n",
    "        return self.width\n",
    "    \n",
    "    def get_height(self):\n",
    "        return self.height\n",
    "    \n",
    "    def get_children(self):\n",
    "        return self.children"
   ]
  },
  {
   "cell_type": "code",
   "execution_count": 13,
   "id": "5811f4d9",
   "metadata": {},
   "outputs": [],
   "source": [
    "# Method about find the children\n",
    "# TODO: FIND the dictionary of all nodes that can be divide(the leaf)\n",
    "# TODO: FIND the dictionary of all nodes that can be fuse(the parent)\n",
    "def find_children(node):\n",
    "    if not node.children:\n",
    "        return [node]\n",
    "    else:\n",
    "        children = []\n",
    "        for child in node.children:\n",
    "            children +=(find_children(child))\n",
    "    return children"
   ]
  },
  {
   "cell_type": "markdown",
   "id": "7dd5687d",
   "metadata": {},
   "source": [
    "## QTree class"
   ]
  },
  {
   "cell_type": "code",
   "execution_count": 42,
   "id": "20404e61",
   "metadata": {},
   "outputs": [],
   "source": [
    "# QTree class which can do the divide and graph of quardtree\n",
    "class QTree():\n",
    "    def __init__(self):\n",
    "        self.root = Node(0, 0, 10, 10)\n",
    "    def subdivide(self, node):\n",
    "        w_ = float(node.width/2)\n",
    "        h_ = float(node.height/2)\n",
    "        x1 = Node(node.x0, node.y0, w_, h_)\n",
    "        x2 = Node(node.x0, node.y0+h_, w_, h_)\n",
    "        x3 = Node(node.x0 + w_, node.y0, w_, h_)\n",
    "        x4 = Node(node.x0+w_, node.y0+h_, w_, h_)\n",
    "        node.children = [x1, x2, x3, x4]\n",
    "    def graph(self):\n",
    "        fig, ax = plt.subplots(figsize=(20, 10))\n",
    "        plt.title(\"Quadtree\")\n",
    "        ax.set_xlim(0, 10)\n",
    "        ax.set_ylim(0, 10)\n",
    "        c = find_children(self.root)\n",
    "        print(\"Number of segments: %d\" %len(c))\n",
    "        areas = set()\n",
    "        for el in c:\n",
    "            areas.add(el.width*el.height)\n",
    "        print(\"Minimum segment area: %.3f units\" %min(areas))\n",
    "        for n in c:\n",
    "            #print((n.x0, n.y0), n.width, n.height)\n",
    "            rect = patches.Rectangle((n.x0, n.y0), n.width, n.height, fill=False)\n",
    "            ax.add_patch(rect)\n",
    "        patches_list = ax.patches\n",
    "        plt.show()"
   ]
  },
  {
   "cell_type": "markdown",
   "id": "cbb3f96a",
   "metadata": {},
   "source": [
    "## Example"
   ]
  },
  {
   "cell_type": "code",
   "execution_count": 52,
   "id": "c17872d3",
   "metadata": {},
   "outputs": [
    {
     "name": "stdout",
     "output_type": "stream",
     "text": [
      "Number of segments: 7\n",
      "Minimum segment area: 6.250 units\n",
      "Rectangle(xy=(0, 0), width=2.5, height=2.5, angle=0)\n"
     ]
    },
    {
     "data": {
      "image/png": "[encoded data removed]",
      "text/plain": [
       "<Figure size 1440x720 with 1 Axes>"
      ]
     },
     "metadata": {
      "needs_background": "light"
     },
     "output_type": "display_data"
    },
    {
     "name": "stdout",
     "output_type": "stream",
     "text": [
      "Rectangle(xy=(0, 2.5), width=2.5, height=2.5, angle=0)\n",
      "Rectangle(xy=(2.5, 0), width=2.5, height=2.5, angle=0)\n",
      "Rectangle(xy=(2.5, 2.5), width=2.5, height=2.5, angle=0)\n",
      "Rectangle(xy=(0, 5), width=5, height=5, angle=0)\n",
      "Rectangle(xy=(5, 0), width=5, height=5, angle=0)\n",
      "Rectangle(xy=(5, 5), width=5, height=5, angle=0)\n"
     ]
    }
   ],
   "source": [
    "# example of using QTreee and divide the quadtree twice\n",
    "quard = QTree()\n",
    "# Divide the quard tree first time\n",
    "quard.subdivide(quard.root)\n",
    "# Divide the quard tree second time\n",
    "quard.subdivide(find_children(quard.root)[0])\n",
    "quard.graph() "
   ]
  },
  {
   "cell_type": "code",
   "execution_count": null,
   "id": "3adb5bb7",
   "metadata": {},
   "outputs": [],
   "source": [
    "t = 0\n",
    "N = 1\n",
    "for i in range(1,10):\n",
    "    t+= random.expovariate(15)\n",
    "    print (N, t)"
   ]
  }
 ],
 "metadata": {
  "kernelspec": {
   "display_name": "Python 3 (ipykernel)",
   "language": "python",
   "name": "python3"
  },
  "language_info": {
   "codemirror_mode": {
    "name": "ipython",
    "version": 3
   },
   "file_extension": ".py",
   "mimetype": "text/x-python",
   "name": "python",
   "nbconvert_exporter": "python",
   "pygments_lexer": "ipython3",
   "version": "3.9.12"
  }
 },
 "nbformat": 4,
 "nbformat_minor": 5
}
