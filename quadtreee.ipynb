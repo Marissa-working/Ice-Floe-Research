{
 "cells": [
  {
   "cell_type": "code",
   "execution_count": 1,
   "id": "4eefd151",
   "metadata": {},
   "outputs": [],
   "source": [
    "import time\n",
    "import random\n",
    "import matplotlib.pyplot as plt \n",
    "import matplotlib.patches as patches\n",
    "import uuid\n",
    "import pandas as pd\n",
    "import numpy as np"
   ]
  },
  {
   "cell_type": "code",
   "execution_count": 2,
   "id": "1d9eae58",
   "metadata": {},
   "outputs": [],
   "source": [
    "#reference: https://jrtechs.net/data-science/implementing-a-quadtree-in-python"
   ]
  },
  {
   "cell_type": "markdown",
   "id": "273d33f0",
   "metadata": {},
   "source": [
    "## Node class"
   ]
  },
  {
   "cell_type": "code",
   "execution_count": 3,
   "id": "fb5be1a2",
   "metadata": {},
   "outputs": [],
   "source": [
    "# Node class is a rectangle in the quardtree\n",
    "# with (x0, y0) as coordinates, w as width, h as height\n",
    "class Node():\n",
    "    def __init__(self, x0, y0, w, h):\n",
    "        self.x0 = x0\n",
    "        self.y0 = y0\n",
    "        self.width = w\n",
    "        self.height = h\n",
    "        self.children = []\n",
    "        # the unique id for each node\n",
    "        self.id = uuid.uuid4().hex[:4]\n",
    "\n",
    "    def get_location(self):\n",
    "        return (self.x0, self.yo)\n",
    "    \n",
    "    def get_width(self):\n",
    "        return self.width\n",
    "    \n",
    "    def get_height(self):\n",
    "        return self.height\n",
    "    \n",
    "    def get_children(self):\n",
    "        return self.children"
   ]
  },
  {
   "cell_type": "markdown",
   "id": "7dd5687d",
   "metadata": {},
   "source": [
    "## QTree class"
   ]
  },
  {
   "cell_type": "code",
   "execution_count": 4,
   "id": "20404e61",
   "metadata": {},
   "outputs": [],
   "source": [
    "# QTree class which can do the divide and graph of quardtree\n",
    "class QTree():\n",
    "    def __init__(self):\n",
    "        self.root = Node(0, 0, 10, 10)\n",
    "        \n",
    "    def subdivide(self, node):\n",
    "        w_ = float(node.width/2)\n",
    "        h_ = float(node.height/2)\n",
    "        x1 = Node(node.x0, node.y0, w_, h_)\n",
    "        x2 = Node(node.x0, node.y0+h_, w_, h_)\n",
    "        x3 = Node(node.x0 + w_, node.y0, w_, h_)\n",
    "        x4 = Node(node.x0+w_, node.y0+h_, w_, h_)\n",
    "        node.children = [x1, x2, x3, x4]\n",
    "        \n",
    "    def weld(self, node):\n",
    "        node.children = []\n",
    "        \n",
    "    def graph(self):\n",
    "        fig, ax = plt.subplots(figsize=(8, 8))\n",
    "        plt.title(\"Quadtree\")\n",
    "        ax.set_xlim(0, 10)\n",
    "        ax.set_ylim(0, 10)\n",
    "        c = find_children(self.root)\n",
    "        print(\"Number of segments: %d\" %len(c))\n",
    "        areas = set()\n",
    "        for el in c:\n",
    "            areas.add(el.width*el.height)\n",
    "        print(\"Minimum segment area: %.3f units\" %min(areas))\n",
    "        for n in c:\n",
    "            #print((n.x0, n.y0), n.width, n.height)\n",
    "            rect = patches.Rectangle((n.x0, n.y0), n.width, n.height, fill=False)\n",
    "            ax.add_patch(rect)\n",
    "        patches_list = ax.patches\n",
    "        plt.show()"
   ]
  },
  {
   "cell_type": "markdown",
   "id": "98ead2dd",
   "metadata": {},
   "source": [
    "## Essential methods about finding children and parents, the size distribution and plotting"
   ]
  },
  {
   "cell_type": "markdown",
   "id": "324ac6e6",
   "metadata": {},
   "source": [
    "### Method about find the children and parents"
   ]
  },
  {
   "cell_type": "code",
   "execution_count": 5,
   "id": "5811f4d9",
   "metadata": {},
   "outputs": [],
   "source": [
    "# FIND the list of all nodes that can be divide(the leaf)\n",
    "def find_children(node):\n",
    "    if not node.children:\n",
    "        return [node]\n",
    "    else:\n",
    "        children = []\n",
    "        for child in node.children:\n",
    "            children +=(find_children(child))\n",
    "    return children\n",
    "\n",
    "# FIND the list of all nodes that can be fuse(the parent)\n",
    "def find_parents(node):\n",
    "    if len(node.children) != 4:\n",
    "        return []\n",
    "    else: \n",
    "        parent = [node]\n",
    "        for child in node.children:\n",
    "            parent += find_parents(child)\n",
    "        return parent\n"
   ]
  },
  {
   "cell_type": "markdown",
   "id": "e9dc7bff",
   "metadata": {},
   "source": [
    "### Method about find the size distribution and plotting"
   ]
  },
  {
   "cell_type": "code",
   "execution_count": 6,
   "id": "d15544a0",
   "metadata": {},
   "outputs": [],
   "source": [
    "# FIND the dictionary of leave nodes' size(sorted)\n",
    "from collections import OrderedDict      # ordered dictionary is used for sorted the size\n",
    "\n",
    "def find_size(node):\n",
    "    if not node.children:\n",
    "        size = node.width * node.height\n",
    "        return {size: 1}\n",
    "    else:\n",
    "        sizes = {}\n",
    "        for child in node.children:\n",
    "            child_sizes = find_size(child)\n",
    "            for child_size, count in child_sizes.items():\n",
    "                if child_size in sizes:\n",
    "                    sizes[child_size] += count\n",
    "                else:\n",
    "                    sizes[child_size] = count\n",
    "        sorted_sizes = OrderedDict(sorted(sizes.items()))\n",
    "        return sorted_sizes\n",
    "\n",
    "# plot the size distribution\n",
    "def plot_size_distribution(size_distribution):\n",
    "    sizes = list(size_distribution.keys())\n",
    "    counts = list(size_distribution.values())\n",
    "    print(\"sizes: \", sizes)\n",
    "    print(\"counts: \",counts)\n",
    "    plt.plot(sizes, counts, marker='o', linestyle='-')\n",
    "#    plt.bar(sizes, counts)\n",
    "    plt.xlabel('Node Size')\n",
    "#    plt.xticks(rotation=90)\n",
    "    plt.ylabel('Count')\n",
    "    plt.title('Size Distribution of ice floes')\n",
    "    plt.show()"
   ]
  },
  {
   "cell_type": "markdown",
   "id": "096c49c8",
   "metadata": {},
   "source": [
    "## Visualization (not required)"
   ]
  },
  {
   "cell_type": "code",
   "execution_count": 7,
   "id": "04eab633",
   "metadata": {},
   "outputs": [],
   "source": [
    "# sudo apt install -y graphviz\n",
    "# pip3 install graphviz\n",
    "from graphviz import Graph, Digraph"
   ]
  },
  {
   "cell_type": "code",
   "execution_count": 8,
   "id": "30afef9c",
   "metadata": {},
   "outputs": [],
   "source": [
    "# FIND the dictionary of all nodes id that can be divide(the leaf)\n",
    "def find_children_id(node):\n",
    "    if not node.children:\n",
    "        return [node.id]\n",
    "    else:\n",
    "        children = []\n",
    "        for child in node.children:\n",
    "            children +=(find_children_id(child))\n",
    "    return children\n",
    "\n",
    "# FIND the dictionary of all nodes id that can be fuse(the parent)\n",
    "def find_parents_id(node):\n",
    "    if len(node.children) != 4:\n",
    "        return []\n",
    "    else: \n",
    "        parent = [node.id]\n",
    "        for child in node.children:\n",
    "            parent += find_parents_id(child)\n",
    "        return parent"
   ]
  },
  {
   "cell_type": "code",
   "execution_count": 9,
   "id": "9b405d36",
   "metadata": {},
   "outputs": [],
   "source": [
    "# draw the nodes in a tree graph\n",
    "def tree_graph(node, g):\n",
    "    if node.children == []:\n",
    "        return g\n",
    "    for child in node.children:\n",
    "        g.edge(node.id, child.id)\n",
    "        tree_graph(child, g)\n",
    "    return g"
   ]
  },
  {
   "cell_type": "markdown",
   "id": "cbb3f96a",
   "metadata": {},
   "source": [
    "## Example"
   ]
  },
  {
   "cell_type": "code",
   "execution_count": 10,
   "id": "c17872d3",
   "metadata": {
    "scrolled": false
   },
   "outputs": [],
   "source": [
    "import random\n",
    "# example of using QTreee \n",
    "quard = QTree()\n",
    "\n",
    "# Divide random times between 0 and 5\n",
    "for i in range(20000):\n",
    "    # Divide random parent node\n",
    "    index = random.randint(0,len(find_children(quard.root))-1)\n",
    "    #print(\"Divide: \", find_children(quard.root)[index].id)\n",
    "    quard.subdivide(find_children(quard.root)[index])\n",
    "\n",
    "# # Weld random times between 0 and 5\n",
    "# for i in range(random.randint(0, 10)):\n",
    "#     # Weld random child node to a parent node\n",
    "#     if len(find_parents(quard.root)) == 0:\n",
    "#         break\n",
    "#     if len(find_parents(quard.root)) == 1:\n",
    "#         #print(\"Weld the children of: \", find_parents(quard.root)[0].id)\n",
    "#         quard.weld(find_parents(quard.root)[0])\n",
    "#         break\n",
    "#     index = random.randint(0,len(find_parents(quard.root))-1)\n",
    "#     #print(\"Weld the children of: \", find_parents(quard.root)[index].id)\n",
    "#     quard.weld(find_parents(quard.root)[index])\n",
    "#quard.graph() "
   ]
  },
  {
   "cell_type": "code",
   "execution_count": 13,
   "id": "12262f94",
   "metadata": {},
   "outputs": [
    {
     "name": "stdout",
     "output_type": "stream",
     "text": [
      "Number of segments: 60001\n",
      "Minimum segment area: 0.000 units\n"
     ]
    },
    {
     "data": {
      "image/png": "[encoded data removed]",
      "text/plain": [
       "<Figure size 576x576 with 1 Axes>"
      ]
     },
     "metadata": {
      "needs_background": "light"
     },
     "output_type": "display_data"
    }
   ],
   "source": [
    "quard.graph() "
   ]
  },
  {
   "cell_type": "code",
   "execution_count": 11,
   "id": "aa95f55f",
   "metadata": {},
   "outputs": [
    {
     "name": "stdout",
     "output_type": "stream",
     "text": [
      "sizes:  [2.220446049250313e-14, 8.881784197001252e-14, 3.552713678800501e-13, 1.4210854715202004e-12, 5.6843418860808015e-12, 2.2737367544323206e-11, 9.094947017729282e-11, 3.637978807091713e-10, 1.4551915228366852e-09, 5.820766091346741e-09, 2.3283064365386963e-08, 9.313225746154785e-08, 3.725290298461914e-07, 1.4901161193847656e-06, 5.9604644775390625e-06, 2.384185791015625e-05, 9.5367431640625e-05, 0.0003814697265625, 0.00152587890625, 0.006103515625, 0.0244140625, 0.09765625, 0.390625, 1.5625]\n",
      "counts:  [16, 84, 190, 415, 771, 1134, 1581, 2308, 3135, 3758, 4517, 5200, 5856, 6274, 6174, 5719, 4917, 3701, 2150, 1208, 611, 197, 68, 17]\n"
     ]
    },
    {
     "data": {
      "image/png": "[encoded data removed]",
      "text/plain": [
       "<Figure size 432x288 with 1 Axes>"
      ]
     },
     "metadata": {
      "needs_background": "light"
     },
     "output_type": "display_data"
    }
   ],
   "source": [
    "# the size distribution of the tree\n",
    "size_distribution = find_size(quard.root)\n",
    "plot_size_distribution(size_distribution)"
   ]
  },
  {
   "cell_type": "markdown",
   "id": "d191751f",
   "metadata": {},
   "source": [
    "## Simulation"
   ]
  },
  {
   "cell_type": "markdown",
   "id": "1e9b5a4e",
   "metadata": {},
   "source": [
    "### A simple random choice based on probability of divide, weld rate"
   ]
  },
  {
   "cell_type": "code",
   "execution_count": null,
   "id": "01b3dedf",
   "metadata": {},
   "outputs": [],
   "source": [
    "class Python_Switch:\n",
    "    def behave(self, num, quard):\n",
    "        default = \"Error input: input should be integer from 0 to 2\"\n",
    "        self.quard = quard\n",
    "        return getattr(self, 'case_' + str(num), lambda: default)()\n",
    "    \n",
    "    def case_0(self):\n",
    "        # nothing happen\n",
    "        return \n",
    "\n",
    "    def case_1(self):\n",
    "        # divde\n",
    "        index = random.randint(0,len(find_children(quard.root))-1)\n",
    "        self.quard.subdivide(find_children(quard.root)[index])\n",
    "\n",
    "    \n",
    "    def case_2(self):\n",
    "        if len(find_parents(quard.root)) == 1 or len(find_parents(quard.root)) == 0:\n",
    "            return\n",
    "        # weld\n",
    "        index = random.randint(0,len(find_parents(quard.root))-1)\n",
    "        self.quard.weld(find_parents(quard.root)[index])"
   ]
  },
  {
   "cell_type": "code",
   "execution_count": null,
   "id": "80fd4de2",
   "metadata": {},
   "outputs": [],
   "source": [
    "# 0: nothing happen\n",
    "# 1: fracture\n",
    "# 2: weld\n",
    "def spilt_weld_simulate(spilt_rate, weld_rate):\n",
    "    quard_example = QTree()\n",
    "    if spilt_rate + weld_rate > 1:\n",
    "        print(\"Error: invalid input, possibility larger than 1\")\n",
    "    nothing_rate = 1 - spilt_rate - weld_rate\n",
    "    population = [0,1,2]\n",
    "    weights = [nothing_rate, spilt_rate, weld_rate]\n",
    "    for i in range(10000000):\n",
    "        num = random.choices(population, weights)[0]\n",
    "        switch = Python_Switch()\n",
    "        switch.behave(num, quard_example)\n",
    "    size_distribution = find_size(quard.root)\n",
    "    plot_size_distribution(size_distribution)\n",
    "    quard.graph()"
   ]
  },
  {
   "cell_type": "code",
   "execution_count": null,
   "id": "d51caafe",
   "metadata": {},
   "outputs": [],
   "source": [
    "spilt_weld_simulate(0.554,0.3)"
   ]
  },
  {
   "cell_type": "code",
   "execution_count": null,
   "id": "6f3cafe2",
   "metadata": {},
   "outputs": [],
   "source": []
  },
  {
   "cell_type": "markdown",
   "id": "fc6dcfae",
   "metadata": {},
   "source": [
    "## Check whether the size distribution is a poisson distribtuion"
   ]
  },
  {
   "cell_type": "code",
   "execution_count": 17,
   "id": "4a2a8dc1",
   "metadata": {},
   "outputs": [],
   "source": [
    "# install by `pip install powerlaw`\n",
    "import powerlaw\n",
    "import matplotlib.pyplot as plt\n",
    "\n",
    "def check_power_law_distribution(size_distribution):\n",
    "    sizes = list(size_distribution.keys())\n",
    "    counts = list(size_distribution.values())\n",
    "\n",
    "    # Fit power law model\n",
    "    fit = powerlaw.Fit(sizes, xmin=min(sizes))\n",
    "\n",
    "    # Plot the distribution and power law fit\n",
    "    fit.plot_ccdf(color='r', linewidth=2)\n",
    "    fit.power_law.plot_ccdf(color='g', linestyle='--', ax=plt.gca())\n",
    "\n",
    "    # Perform goodness-of-fit test\n",
    "    R, p_value = fit.distribution_compare('power_law', 'exponential', normalized_ratio=True)\n",
    "\n",
    "    if p_value < 0.05:\n",
    "        print(\"The size distribution is not a good fit for a power law distribution.\")\n",
    "    else:\n",
    "        print(\"The size distribution is a good fit for a power law distribution.\")\n",
    "\n",
    "    plt.xlabel('Node Size')\n",
    "    plt.ylabel('Complementary Cumulative Distribution Function (CCDF)')\n",
    "    plt.title('Size Distribution and Power Law Fit')\n",
    "    plt.show()"
   ]
  },
  {
   "cell_type": "code",
   "execution_count": 18,
   "id": "ed7efeba",
   "metadata": {
    "scrolled": true
   },
   "outputs": [
    {
     "name": "stdout",
     "output_type": "stream",
     "text": [
      "The size distribution is not a good fit for a power law distribution.\n"
     ]
    },
    {
     "data": {
      "image/png": "[encoded data removed]",
      "text/plain": [
       "<Figure size 432x288 with 1 Axes>"
      ]
     },
     "metadata": {
      "needs_background": "light"
     },
     "output_type": "display_data"
    }
   ],
   "source": [
    "# Usage:\n",
    "size_distribution = find_size(quard.root)\n",
    "check_power_law_distribution(size_distribution)"
   ]
  }
 ],
 "metadata": {
  "kernelspec": {
   "display_name": "Python 3 (ipykernel)",
   "language": "python",
   "name": "python3"
  },
  "language_info": {
   "codemirror_mode": {
    "name": "ipython",
    "version": 3
   },
   "file_extension": ".py",
   "mimetype": "text/x-python",
   "name": "python",
   "nbconvert_exporter": "python",
   "pygments_lexer": "ipython3",
   "version": "3.9.12"
  }
 },
 "nbformat": 4,
 "nbformat_minor": 5
}
