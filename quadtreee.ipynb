{
 "cells": [
  {
   "cell_type": "code",
   "execution_count": 1,
   "id": "4eefd151",
   "metadata": {},
   "outputs": [],
   "source": [
    "import time\n",
    "import random\n",
    "import matplotlib.pyplot as plt \n",
    "import matplotlib.patches as patches\n",
    "import uuid\n",
    "import pandas as pd\n",
    "import numpy as np"
   ]
  },
  {
   "cell_type": "code",
   "execution_count": 2,
   "id": "1d9eae58",
   "metadata": {},
   "outputs": [],
   "source": [
    "#reference: https://jrtechs.net/data-science/implementing-a-quadtree-in-python"
   ]
  },
  {
   "cell_type": "markdown",
   "id": "273d33f0",
   "metadata": {},
   "source": [
    "## Node class"
   ]
  },
  {
   "cell_type": "code",
   "execution_count": 3,
   "id": "fb5be1a2",
   "metadata": {},
   "outputs": [],
   "source": [
    "# Node class is a square in the quardtree\n",
    "# with (x0, y0) as coordinates, w as width and height, children as four children nodes"
   ]
  },
  {
   "cell_type": "code",
   "execution_count": 4,
   "id": "20b033c5",
   "metadata": {},
   "outputs": [],
   "source": [
    "from typing import NamedTuple\n",
    "\n",
    "class Node(NamedTuple):\n",
    "    x0: int\n",
    "    y0: int\n",
    "    width: int\n",
    "    children: list\n",
    "    parent: list\n",
    "    id: int"
   ]
  },
  {
   "cell_type": "markdown",
   "id": "7dd5687d",
   "metadata": {},
   "source": [
    "## QTree class"
   ]
  },
  {
   "cell_type": "code",
   "execution_count": 5,
   "id": "20404e61",
   "metadata": {},
   "outputs": [],
   "source": [
    "# QTree class which can do the divide and graph of quardtree\n",
    "class QTree():\n",
    "    def __init__(self):\n",
    "        self.root = Node(0, 0, 1000, [], None, uuid.uuid4().hex[:4])\n",
    "        self.leaf_list = [self.root]\n",
    "        self.parent_list = []\n",
    "    def subdivide(self, index):\n",
    "        node = self.leaf_list[index]\n",
    "        w_ = float(node.width/2)\n",
    "        x1 = Node(node.x0, node.y0, w_,[], [node], uuid.uuid4().hex[:4])\n",
    "        x2 = Node(node.x0, node.y0+w_, w_, [], [node], uuid.uuid4().hex[:4])\n",
    "        x3 = Node(node.x0 + w_, node.y0, w_, [], [node], uuid.uuid4().hex[:4])\n",
    "        x4 = Node(node.x0+w_, node.y0+w_, w_, [], [node], uuid.uuid4().hex[:4])\n",
    "        if node.parent != None and node.parent[0] in self.parent_list:\n",
    "            self.parent_list.remove(node.parent[0])\n",
    "        #x1, x2, x3, x4 becomes the children of the node\n",
    "        node.children.append(x1)\n",
    "        node.children.append(x2)\n",
    "        node.children.append(x3)\n",
    "        node.children.append(x4)\n",
    "        # the original node is not leaf node any longer\n",
    "        self.leaf_list.pop(index)\n",
    "        # the generated four children nodes are added to the leaf list\n",
    "        self.leaf_list.append(x1)\n",
    "        self.leaf_list.append(x2)\n",
    "        self.leaf_list.append(x3)\n",
    "        self.leaf_list.append(x4)\n",
    "        # the original node becomes the parent node\n",
    "        self.parent_list.append(node)\n",
    "        \n",
    "    def weld(self, index):\n",
    "        node = self.parent_list[index]\n",
    "        # the original node is not parent node any longer\n",
    "        self.parent_list.pop(index)\n",
    "        # all children nodes are removed from leaf list\n",
    "        self.leaf_list.remove(node.children[0])\n",
    "        self.leaf_list.remove(node.children[1])\n",
    "        self.leaf_list.remove(node.children[2])\n",
    "        self.leaf_list.remove(node.children[3])\n",
    "        # the original node becomse the leaf node\n",
    "        self.leaf_list.append(node)\n",
    "        node.children.clear()\n",
    "        \n",
    "    def graph(self):\n",
    "        fig, ax = plt.subplots(figsize=(8, 8))\n",
    "        plt.title(\"Quadtree\")\n",
    "        ax.set_xlim(0, 1000)\n",
    "        ax.set_ylim(0, 1000)\n",
    "        c = self.leaf_list\n",
    "        print(\"Number of segments: %d\" %len(c))\n",
    "        areas = set()\n",
    "        for el in c:\n",
    "            areas.add(el.width*el.width)\n",
    "        print(\"Minimum segment area: %.3f units\" %min(areas))\n",
    "        for n in c:\n",
    "            #print((n.x0, n.y0), n.width, n.height)\n",
    "            rect = patches.Rectangle((n.x0, n.y0), n.width, n.width, fill=False)\n",
    "            ax.add_patch(rect)\n",
    "        patches_list = ax.patches\n",
    "        plt.show()"
   ]
  },
  {
   "cell_type": "markdown",
   "id": "e9dc7bff",
   "metadata": {},
   "source": [
    "## Method about find the size distribution and plotting"
   ]
  },
  {
   "cell_type": "code",
   "execution_count": 6,
   "id": "d15544a0",
   "metadata": {},
   "outputs": [],
   "source": [
    "# FIND the dictionary of leave nodes' size(sorted)\n",
    "from collections import OrderedDict      # ordered dictionary is used for sorted the size\n",
    "\n",
    "def find_size(node):\n",
    "    if not node.children:\n",
    "        size = node.width * node.width\n",
    "        return {size: 1}\n",
    "    else:\n",
    "        sizes = {}\n",
    "        for child in node.children:\n",
    "            child_sizes = find_size(child)\n",
    "            for child_size, count in child_sizes.items():\n",
    "                if child_size in sizes:\n",
    "                    sizes[child_size] += count\n",
    "                else:\n",
    "                    sizes[child_size] = count\n",
    "        sorted_sizes = OrderedDict(sorted(sizes.items()))\n",
    "        return sorted_sizes\n",
    "\n",
    "# plot the size distribution\n",
    "def plot_size_distribution(size_distribution):\n",
    "    sizes = list(size_distribution.keys())\n",
    "    counts = list(size_distribution.values())\n",
    "    print(\"sizes: \", sizes)\n",
    "    print(\"counts: \",counts)\n",
    "    plt.plot(sizes, counts, marker='o', linestyle='-')\n",
    "    plt.xlabel('Node Size')\n",
    "    plt.ylabel('Count')\n",
    "    plt.title('Size Distribution of ice floes')\n",
    "    plt.show()"
   ]
  },
  {
   "cell_type": "markdown",
   "id": "096c49c8",
   "metadata": {},
   "source": [
    "## Visualization (not required)"
   ]
  },
  {
   "cell_type": "code",
   "execution_count": 7,
   "id": "04eab633",
   "metadata": {},
   "outputs": [],
   "source": [
    "# sudo apt install -y graphviz\n",
    "# pip3 install graphviz\n",
    "from graphviz import Graph, Digraph"
   ]
  },
  {
   "cell_type": "code",
   "execution_count": 8,
   "id": "30afef9c",
   "metadata": {},
   "outputs": [],
   "source": [
    "# FIND the dictionary of all nodes id that can be divide(the leaf)\n",
    "def find_children_id(node):\n",
    "    if not node.children:\n",
    "        return [node.id]\n",
    "    else:\n",
    "        children = []\n",
    "        for child in node.children:\n",
    "            children +=(find_children_id(child))\n",
    "    return children\n",
    "\n",
    "# FIND the dictionary of all nodes id that can be fuse(the parent)\n",
    "def find_parents_id(node):\n",
    "    if len(node.children) != 4:\n",
    "        return []\n",
    "    else: \n",
    "        parent = [node.id]\n",
    "        for child in node.children:\n",
    "            parent += find_parents_id(child)\n",
    "        return parent"
   ]
  },
  {
   "cell_type": "code",
   "execution_count": 9,
   "id": "9b405d36",
   "metadata": {},
   "outputs": [],
   "source": [
    "# draw the nodes in a tree graph\n",
    "def tree_graph(node, g):\n",
    "    if node.children == []:\n",
    "        return g\n",
    "    for child in node.children:\n",
    "        g.edge(node.id, child.id)\n",
    "        tree_graph(child, g)\n",
    "    return g"
   ]
  },
  {
   "cell_type": "markdown",
   "id": "cbb3f96a",
   "metadata": {},
   "source": [
    "## Example"
   ]
  },
  {
   "cell_type": "code",
   "execution_count": 10,
   "id": "c17872d3",
   "metadata": {
    "scrolled": false
   },
   "outputs": [],
   "source": [
    "import random\n",
    "# example of using QTreee \n",
    "quard = QTree()\n",
    "\n",
    "# Divide random times between 0 and 5\n",
    "for i in range(2):\n",
    "    # Divide random parent node\n",
    "    index = random.randint(0,len(quard.leaf_list)-1)\n",
    "    #print(\"Divide: \", find_children(quard.root)[index].id)\n",
    "    quard.subdivide(index)\n",
    "\n",
    "# # Weld random times between 0 and 5\n",
    "# for i in range(random.randint(0, 10)):\n",
    "#     # Weld random child node to a parent node\n",
    "#     if len(find_parents(quard.root)) == 0:\n",
    "#         break\n",
    "#     if len(find_parents(quard.root)) == 1:\n",
    "#         #print(\"Weld the children of: \", find_parents(quard.root)[0].id)\n",
    "#         quard.weld(find_parents(quard.root)[0])\n",
    "#         break\n",
    "#     index = random.randint(0,len(find_parents(quard.root))-1)\n",
    "#     #print(\"Weld the children of: \", find_parents(quard.root)[index].id)\n",
    "#     quard.weld(find_parents(quard.root)[index])\n",
    "#quard.graph() "
   ]
  },
  {
   "cell_type": "code",
   "execution_count": 11,
   "id": "0f960698",
   "metadata": {},
   "outputs": [
    {
     "data": {
      "image/svg+xml": [
       "<?xml version=\"1.0\" encoding=\"UTF-8\" standalone=\"no\"?>\n",
       "<!DOCTYPE svg PUBLIC \"-//W3C//DTD SVG 1.1//EN\"\n",
       " \"http://www.w3.org/Graphics/SVG/1.1/DTD/svg11.dtd\">\n",
       "<!-- Generated by graphviz version 8.0.5 (20230430.1635)\n",
       " -->\n",
       "<!-- Pages: 1 -->\n",
       "<svg width=\"314pt\" height=\"188pt\"\n",
       " viewBox=\"0.00 0.00 314.35 188.00\" xmlns=\"http://www.w3.org/2000/svg\" xmlns:xlink=\"http://www.w3.org/1999/xlink\">\n",
       "<g id=\"graph0\" class=\"graph\" transform=\"scale(1 1) rotate(0) translate(4 184)\">\n",
       "<polygon fill=\"white\" stroke=\"none\" points=\"-4,4 -4,-184 310.35,-184 310.35,4 -4,4\"/>\n",
       "<!-- 9f3a -->\n",
       "<g id=\"node1\" class=\"node\">\n",
       "<title>9f3a</title>\n",
       "<ellipse fill=\"none\" stroke=\"black\" cx=\"135\" cy=\"-162\" rx=\"27\" ry=\"18\"/>\n",
       "<text text-anchor=\"middle\" x=\"135\" y=\"-155.82\" font-family=\"Times,serif\" font-size=\"14.00\">9f3a</text>\n",
       "</g>\n",
       "<!-- 2f69 -->\n",
       "<g id=\"node2\" class=\"node\">\n",
       "<title>2f69</title>\n",
       "<ellipse fill=\"none\" stroke=\"black\" cx=\"27\" cy=\"-90\" rx=\"27\" ry=\"18\"/>\n",
       "<text text-anchor=\"middle\" x=\"27\" y=\"-83.83\" font-family=\"Times,serif\" font-size=\"14.00\">2f69</text>\n",
       "</g>\n",
       "<!-- 9f3a&#45;&gt;2f69 -->\n",
       "<g id=\"edge1\" class=\"edge\">\n",
       "<title>9f3a&#45;&gt;2f69</title>\n",
       "<path fill=\"none\" stroke=\"black\" d=\"M116.19,-148.81C99.33,-137.88 74.38,-121.71 55.15,-109.24\"/>\n",
       "<polygon fill=\"black\" stroke=\"black\" points=\"57.25,-105.79 46.96,-103.29 53.45,-111.66 57.25,-105.79\"/>\n",
       "</g>\n",
       "<!-- d29e -->\n",
       "<g id=\"node3\" class=\"node\">\n",
       "<title>d29e</title>\n",
       "<ellipse fill=\"none\" stroke=\"black\" cx=\"99\" cy=\"-90\" rx=\"27\" ry=\"18\"/>\n",
       "<text text-anchor=\"middle\" x=\"99\" y=\"-83.83\" font-family=\"Times,serif\" font-size=\"14.00\">d29e</text>\n",
       "</g>\n",
       "<!-- 9f3a&#45;&gt;d29e -->\n",
       "<g id=\"edge2\" class=\"edge\">\n",
       "<title>9f3a&#45;&gt;d29e</title>\n",
       "<path fill=\"none\" stroke=\"black\" d=\"M126.65,-144.76C122.38,-136.46 117.08,-126.15 112.27,-116.79\"/>\n",
       "<polygon fill=\"black\" stroke=\"black\" points=\"114.99,-115.44 107.3,-108.15 108.77,-118.64 114.99,-115.44\"/>\n",
       "</g>\n",
       "<!-- a97d -->\n",
       "<g id=\"node4\" class=\"node\">\n",
       "<title>a97d</title>\n",
       "<ellipse fill=\"none\" stroke=\"black\" cx=\"171\" cy=\"-90\" rx=\"27\" ry=\"18\"/>\n",
       "<text text-anchor=\"middle\" x=\"171\" y=\"-83.83\" font-family=\"Times,serif\" font-size=\"14.00\">a97d</text>\n",
       "</g>\n",
       "<!-- 9f3a&#45;&gt;a97d -->\n",
       "<g id=\"edge3\" class=\"edge\">\n",
       "<title>9f3a&#45;&gt;a97d</title>\n",
       "<path fill=\"none\" stroke=\"black\" d=\"M143.35,-144.76C147.62,-136.46 152.92,-126.15 157.73,-116.79\"/>\n",
       "<polygon fill=\"black\" stroke=\"black\" points=\"161.23,-118.64 162.7,-108.15 155.01,-115.44 161.23,-118.64\"/>\n",
       "</g>\n",
       "<!-- 1a44 -->\n",
       "<g id=\"node9\" class=\"node\">\n",
       "<title>1a44</title>\n",
       "<ellipse fill=\"none\" stroke=\"black\" cx=\"243\" cy=\"-90\" rx=\"27\" ry=\"18\"/>\n",
       "<text text-anchor=\"middle\" x=\"243\" y=\"-83.83\" font-family=\"Times,serif\" font-size=\"14.00\">1a44</text>\n",
       "</g>\n",
       "<!-- 9f3a&#45;&gt;1a44 -->\n",
       "<g id=\"edge8\" class=\"edge\">\n",
       "<title>9f3a&#45;&gt;1a44</title>\n",
       "<path fill=\"none\" stroke=\"black\" d=\"M153.81,-148.81C170.67,-137.88 195.62,-121.71 214.85,-109.24\"/>\n",
       "<polygon fill=\"black\" stroke=\"black\" points=\"216.55,-111.66 223.04,-103.29 212.75,-105.79 216.55,-111.66\"/>\n",
       "</g>\n",
       "<!-- c89e -->\n",
       "<g id=\"node5\" class=\"node\">\n",
       "<title>c89e</title>\n",
       "<ellipse fill=\"none\" stroke=\"black\" cx=\"63\" cy=\"-18\" rx=\"27\" ry=\"18\"/>\n",
       "<text text-anchor=\"middle\" x=\"63\" y=\"-11.82\" font-family=\"Times,serif\" font-size=\"14.00\">c89e</text>\n",
       "</g>\n",
       "<!-- a97d&#45;&gt;c89e -->\n",
       "<g id=\"edge4\" class=\"edge\">\n",
       "<title>a97d&#45;&gt;c89e</title>\n",
       "<path fill=\"none\" stroke=\"black\" d=\"M152.19,-76.81C135.33,-65.88 110.38,-49.71 91.15,-37.24\"/>\n",
       "<polygon fill=\"black\" stroke=\"black\" points=\"93.25,-33.79 82.96,-31.29 89.45,-39.66 93.25,-33.79\"/>\n",
       "</g>\n",
       "<!-- f939 -->\n",
       "<g id=\"node6\" class=\"node\">\n",
       "<title>f939</title>\n",
       "<ellipse fill=\"none\" stroke=\"black\" cx=\"135\" cy=\"-18\" rx=\"27\" ry=\"18\"/>\n",
       "<text text-anchor=\"middle\" x=\"135\" y=\"-11.82\" font-family=\"Times,serif\" font-size=\"14.00\">f939</text>\n",
       "</g>\n",
       "<!-- a97d&#45;&gt;f939 -->\n",
       "<g id=\"edge5\" class=\"edge\">\n",
       "<title>a97d&#45;&gt;f939</title>\n",
       "<path fill=\"none\" stroke=\"black\" d=\"M162.65,-72.76C158.38,-64.46 153.08,-54.15 148.27,-44.79\"/>\n",
       "<polygon fill=\"black\" stroke=\"black\" points=\"150.99,-43.44 143.3,-36.15 144.77,-46.64 150.99,-43.44\"/>\n",
       "</g>\n",
       "<!-- fec4 -->\n",
       "<g id=\"node7\" class=\"node\">\n",
       "<title>fec4</title>\n",
       "<ellipse fill=\"none\" stroke=\"black\" cx=\"207\" cy=\"-18\" rx=\"27\" ry=\"18\"/>\n",
       "<text text-anchor=\"middle\" x=\"207\" y=\"-11.82\" font-family=\"Times,serif\" font-size=\"14.00\">fec4</text>\n",
       "</g>\n",
       "<!-- a97d&#45;&gt;fec4 -->\n",
       "<g id=\"edge6\" class=\"edge\">\n",
       "<title>a97d&#45;&gt;fec4</title>\n",
       "<path fill=\"none\" stroke=\"black\" d=\"M179.35,-72.76C183.62,-64.46 188.92,-54.15 193.73,-44.79\"/>\n",
       "<polygon fill=\"black\" stroke=\"black\" points=\"197.23,-46.64 198.7,-36.15 191.01,-43.44 197.23,-46.64\"/>\n",
       "</g>\n",
       "<!-- 32b4 -->\n",
       "<g id=\"node8\" class=\"node\">\n",
       "<title>32b4</title>\n",
       "<ellipse fill=\"none\" stroke=\"black\" cx=\"279\" cy=\"-18\" rx=\"27.35\" ry=\"18\"/>\n",
       "<text text-anchor=\"middle\" x=\"279\" y=\"-11.82\" font-family=\"Times,serif\" font-size=\"14.00\">32b4</text>\n",
       "</g>\n",
       "<!-- a97d&#45;&gt;32b4 -->\n",
       "<g id=\"edge7\" class=\"edge\">\n",
       "<title>a97d&#45;&gt;32b4</title>\n",
       "<path fill=\"none\" stroke=\"black\" d=\"M189.81,-76.81C206.67,-65.88 231.62,-49.71 250.85,-37.24\"/>\n",
       "<polygon fill=\"black\" stroke=\"black\" points=\"252.55,-39.66 259.04,-31.29 248.75,-33.79 252.55,-39.66\"/>\n",
       "</g>\n",
       "</g>\n",
       "</svg>\n"
      ],
      "text/plain": [
       "<graphviz.graphs.Digraph at 0x7fb12aea0d00>"
      ]
     },
     "execution_count": 11,
     "metadata": {},
     "output_type": "execute_result"
    }
   ],
   "source": [
    "g = Digraph()\n",
    "tree_graph(quard.root, g)"
   ]
  },
  {
   "cell_type": "code",
   "execution_count": 12,
   "id": "5bf88cce",
   "metadata": {},
   "outputs": [
    {
     "name": "stdout",
     "output_type": "stream",
     "text": [
      "Number of segments: 7\n",
      "Minimum segment area: 62500.000 units\n"
     ]
    },
    {
     "data": {
      "image/png": "[encoded data removed]",
      "text/plain": [
       "<Figure size 576x576 with 1 Axes>"
      ]
     },
     "metadata": {
      "needs_background": "light"
     },
     "output_type": "display_data"
    }
   ],
   "source": [
    "quard.graph() "
   ]
  },
  {
   "cell_type": "code",
   "execution_count": 13,
   "id": "aa95f55f",
   "metadata": {},
   "outputs": [
    {
     "name": "stdout",
     "output_type": "stream",
     "text": [
      "sizes:  [62500.0, 250000.0]\n",
      "counts:  [4, 3]\n"
     ]
    },
    {
     "data": {
      "image/png": "[encoded data removed]",
      "text/plain": [
       "<Figure size 432x288 with 1 Axes>"
      ]
     },
     "metadata": {
      "needs_background": "light"
     },
     "output_type": "display_data"
    }
   ],
   "source": [
    "# the size distribution of the tree\n",
    "size_distribution = find_size(quard.root)\n",
    "plot_size_distribution(size_distribution)"
   ]
  },
  {
   "cell_type": "code",
   "execution_count": 14,
   "id": "6f977b58",
   "metadata": {},
   "outputs": [
    {
     "data": {
      "text/plain": [
       "['2f69', 'd29e', '1a44', 'c89e', 'f939', 'fec4', '32b4']"
      ]
     },
     "execution_count": 14,
     "metadata": {},
     "output_type": "execute_result"
    }
   ],
   "source": [
    "[x.id for x in quard.leaf_list]"
   ]
  },
  {
   "cell_type": "code",
   "execution_count": 15,
   "id": "2e0a3612",
   "metadata": {},
   "outputs": [
    {
     "data": {
      "text/plain": [
       "['a97d']"
      ]
     },
     "execution_count": 15,
     "metadata": {},
     "output_type": "execute_result"
    }
   ],
   "source": [
    "[x.id for x in quard.parent_list]"
   ]
  },
  {
   "cell_type": "code",
   "execution_count": 16,
   "id": "7bda323e",
   "metadata": {},
   "outputs": [
    {
     "data": {
      "image/svg+xml": [
       "<?xml version=\"1.0\" encoding=\"UTF-8\" standalone=\"no\"?>\n",
       "<!DOCTYPE svg PUBLIC \"-//W3C//DTD SVG 1.1//EN\"\n",
       " \"http://www.w3.org/Graphics/SVG/1.1/DTD/svg11.dtd\">\n",
       "<!-- Generated by graphviz version 8.0.5 (20230430.1635)\n",
       " -->\n",
       "<!-- Pages: 1 -->\n",
       "<svg width=\"314pt\" height=\"188pt\"\n",
       " viewBox=\"0.00 0.00 314.35 188.00\" xmlns=\"http://www.w3.org/2000/svg\" xmlns:xlink=\"http://www.w3.org/1999/xlink\">\n",
       "<g id=\"graph0\" class=\"graph\" transform=\"scale(1 1) rotate(0) translate(4 184)\">\n",
       "<polygon fill=\"white\" stroke=\"none\" points=\"-4,4 -4,-184 310.35,-184 310.35,4 -4,4\"/>\n",
       "<!-- 9f3a -->\n",
       "<g id=\"node1\" class=\"node\">\n",
       "<title>9f3a</title>\n",
       "<ellipse fill=\"none\" stroke=\"black\" cx=\"135\" cy=\"-162\" rx=\"27\" ry=\"18\"/>\n",
       "<text text-anchor=\"middle\" x=\"135\" y=\"-155.82\" font-family=\"Times,serif\" font-size=\"14.00\">9f3a</text>\n",
       "</g>\n",
       "<!-- 2f69 -->\n",
       "<g id=\"node2\" class=\"node\">\n",
       "<title>2f69</title>\n",
       "<ellipse fill=\"none\" stroke=\"black\" cx=\"27\" cy=\"-90\" rx=\"27\" ry=\"18\"/>\n",
       "<text text-anchor=\"middle\" x=\"27\" y=\"-83.83\" font-family=\"Times,serif\" font-size=\"14.00\">2f69</text>\n",
       "</g>\n",
       "<!-- 9f3a&#45;&gt;2f69 -->\n",
       "<g id=\"edge1\" class=\"edge\">\n",
       "<title>9f3a&#45;&gt;2f69</title>\n",
       "<path fill=\"none\" stroke=\"black\" d=\"M116.19,-148.81C99.33,-137.88 74.38,-121.71 55.15,-109.24\"/>\n",
       "<polygon fill=\"black\" stroke=\"black\" points=\"57.25,-105.79 46.96,-103.29 53.45,-111.66 57.25,-105.79\"/>\n",
       "</g>\n",
       "<!-- d29e -->\n",
       "<g id=\"node3\" class=\"node\">\n",
       "<title>d29e</title>\n",
       "<ellipse fill=\"none\" stroke=\"black\" cx=\"99\" cy=\"-90\" rx=\"27\" ry=\"18\"/>\n",
       "<text text-anchor=\"middle\" x=\"99\" y=\"-83.83\" font-family=\"Times,serif\" font-size=\"14.00\">d29e</text>\n",
       "</g>\n",
       "<!-- 9f3a&#45;&gt;d29e -->\n",
       "<g id=\"edge2\" class=\"edge\">\n",
       "<title>9f3a&#45;&gt;d29e</title>\n",
       "<path fill=\"none\" stroke=\"black\" d=\"M126.65,-144.76C122.38,-136.46 117.08,-126.15 112.27,-116.79\"/>\n",
       "<polygon fill=\"black\" stroke=\"black\" points=\"114.99,-115.44 107.3,-108.15 108.77,-118.64 114.99,-115.44\"/>\n",
       "</g>\n",
       "<!-- a97d -->\n",
       "<g id=\"node4\" class=\"node\">\n",
       "<title>a97d</title>\n",
       "<ellipse fill=\"none\" stroke=\"black\" cx=\"171\" cy=\"-90\" rx=\"27\" ry=\"18\"/>\n",
       "<text text-anchor=\"middle\" x=\"171\" y=\"-83.83\" font-family=\"Times,serif\" font-size=\"14.00\">a97d</text>\n",
       "</g>\n",
       "<!-- 9f3a&#45;&gt;a97d -->\n",
       "<g id=\"edge3\" class=\"edge\">\n",
       "<title>9f3a&#45;&gt;a97d</title>\n",
       "<path fill=\"none\" stroke=\"black\" d=\"M143.35,-144.76C147.62,-136.46 152.92,-126.15 157.73,-116.79\"/>\n",
       "<polygon fill=\"black\" stroke=\"black\" points=\"161.23,-118.64 162.7,-108.15 155.01,-115.44 161.23,-118.64\"/>\n",
       "</g>\n",
       "<!-- 1a44 -->\n",
       "<g id=\"node9\" class=\"node\">\n",
       "<title>1a44</title>\n",
       "<ellipse fill=\"none\" stroke=\"black\" cx=\"243\" cy=\"-90\" rx=\"27\" ry=\"18\"/>\n",
       "<text text-anchor=\"middle\" x=\"243\" y=\"-83.83\" font-family=\"Times,serif\" font-size=\"14.00\">1a44</text>\n",
       "</g>\n",
       "<!-- 9f3a&#45;&gt;1a44 -->\n",
       "<g id=\"edge8\" class=\"edge\">\n",
       "<title>9f3a&#45;&gt;1a44</title>\n",
       "<path fill=\"none\" stroke=\"black\" d=\"M153.81,-148.81C170.67,-137.88 195.62,-121.71 214.85,-109.24\"/>\n",
       "<polygon fill=\"black\" stroke=\"black\" points=\"216.55,-111.66 223.04,-103.29 212.75,-105.79 216.55,-111.66\"/>\n",
       "</g>\n",
       "<!-- c89e -->\n",
       "<g id=\"node5\" class=\"node\">\n",
       "<title>c89e</title>\n",
       "<ellipse fill=\"none\" stroke=\"black\" cx=\"63\" cy=\"-18\" rx=\"27\" ry=\"18\"/>\n",
       "<text text-anchor=\"middle\" x=\"63\" y=\"-11.82\" font-family=\"Times,serif\" font-size=\"14.00\">c89e</text>\n",
       "</g>\n",
       "<!-- a97d&#45;&gt;c89e -->\n",
       "<g id=\"edge4\" class=\"edge\">\n",
       "<title>a97d&#45;&gt;c89e</title>\n",
       "<path fill=\"none\" stroke=\"black\" d=\"M152.19,-76.81C135.33,-65.88 110.38,-49.71 91.15,-37.24\"/>\n",
       "<polygon fill=\"black\" stroke=\"black\" points=\"93.25,-33.79 82.96,-31.29 89.45,-39.66 93.25,-33.79\"/>\n",
       "</g>\n",
       "<!-- f939 -->\n",
       "<g id=\"node6\" class=\"node\">\n",
       "<title>f939</title>\n",
       "<ellipse fill=\"none\" stroke=\"black\" cx=\"135\" cy=\"-18\" rx=\"27\" ry=\"18\"/>\n",
       "<text text-anchor=\"middle\" x=\"135\" y=\"-11.82\" font-family=\"Times,serif\" font-size=\"14.00\">f939</text>\n",
       "</g>\n",
       "<!-- a97d&#45;&gt;f939 -->\n",
       "<g id=\"edge5\" class=\"edge\">\n",
       "<title>a97d&#45;&gt;f939</title>\n",
       "<path fill=\"none\" stroke=\"black\" d=\"M162.65,-72.76C158.38,-64.46 153.08,-54.15 148.27,-44.79\"/>\n",
       "<polygon fill=\"black\" stroke=\"black\" points=\"150.99,-43.44 143.3,-36.15 144.77,-46.64 150.99,-43.44\"/>\n",
       "</g>\n",
       "<!-- fec4 -->\n",
       "<g id=\"node7\" class=\"node\">\n",
       "<title>fec4</title>\n",
       "<ellipse fill=\"none\" stroke=\"black\" cx=\"207\" cy=\"-18\" rx=\"27\" ry=\"18\"/>\n",
       "<text text-anchor=\"middle\" x=\"207\" y=\"-11.82\" font-family=\"Times,serif\" font-size=\"14.00\">fec4</text>\n",
       "</g>\n",
       "<!-- a97d&#45;&gt;fec4 -->\n",
       "<g id=\"edge6\" class=\"edge\">\n",
       "<title>a97d&#45;&gt;fec4</title>\n",
       "<path fill=\"none\" stroke=\"black\" d=\"M179.35,-72.76C183.62,-64.46 188.92,-54.15 193.73,-44.79\"/>\n",
       "<polygon fill=\"black\" stroke=\"black\" points=\"197.23,-46.64 198.7,-36.15 191.01,-43.44 197.23,-46.64\"/>\n",
       "</g>\n",
       "<!-- 32b4 -->\n",
       "<g id=\"node8\" class=\"node\">\n",
       "<title>32b4</title>\n",
       "<ellipse fill=\"none\" stroke=\"black\" cx=\"279\" cy=\"-18\" rx=\"27.35\" ry=\"18\"/>\n",
       "<text text-anchor=\"middle\" x=\"279\" y=\"-11.82\" font-family=\"Times,serif\" font-size=\"14.00\">32b4</text>\n",
       "</g>\n",
       "<!-- a97d&#45;&gt;32b4 -->\n",
       "<g id=\"edge7\" class=\"edge\">\n",
       "<title>a97d&#45;&gt;32b4</title>\n",
       "<path fill=\"none\" stroke=\"black\" d=\"M189.81,-76.81C206.67,-65.88 231.62,-49.71 250.85,-37.24\"/>\n",
       "<polygon fill=\"black\" stroke=\"black\" points=\"252.55,-39.66 259.04,-31.29 248.75,-33.79 252.55,-39.66\"/>\n",
       "</g>\n",
       "</g>\n",
       "</svg>\n"
      ],
      "text/plain": [
       "<graphviz.graphs.Digraph at 0x7fb12b1abdf0>"
      ]
     },
     "execution_count": 16,
     "metadata": {},
     "output_type": "execute_result"
    }
   ],
   "source": [
    "g = Digraph()\n",
    "tree_graph(quard.root, g)"
   ]
  },
  {
   "cell_type": "markdown",
   "id": "d191751f",
   "metadata": {},
   "source": [
    "## Simulation"
   ]
  },
  {
   "cell_type": "markdown",
   "id": "1e9b5a4e",
   "metadata": {},
   "source": [
    "### A simple random choice based on probability of divide, weld rate"
   ]
  },
  {
   "cell_type": "code",
   "execution_count": 17,
   "id": "01b3dedf",
   "metadata": {},
   "outputs": [],
   "source": [
    "class Python_Switch:\n",
    "    def behave(self, num, quard):\n",
    "        default = \"Error input: input should be integer from 0 to 2\"\n",
    "        self.quard = quard\n",
    "        return getattr(self, 'case_' + str(num), lambda: default)()\n",
    "    \n",
    "    def case_0(self):\n",
    "        # nothing happen\n",
    "        return \n",
    "\n",
    "    def case_1(self):\n",
    "        # divde\n",
    "        index = random.randint(0,len(self.quard.leaf_list)-1)\n",
    "        self.quard.subdivide(index)\n",
    "\n",
    "    \n",
    "    def case_2(self):\n",
    "        if len(self.quard.parent_list) == 1 or len(self.quard.parent_list) == 0:\n",
    "            return\n",
    "        # weld\n",
    "        index = random.randint(0,len(self.quard.parent_list)-1)\n",
    "        self.quard.weld(index)"
   ]
  },
  {
   "cell_type": "code",
   "execution_count": 18,
   "id": "80fd4de2",
   "metadata": {},
   "outputs": [],
   "source": [
    "# 0: nothing happen\n",
    "# 1: fracture\n",
    "# 2: weld\n",
    "def spilt_weld_simulate(spilt_rate, weld_rate, second):\n",
    "    quard_example = QTree()\n",
    "    if spilt_rate + weld_rate > 1:\n",
    "        print(\"Error: invalid input, possibility larger than 1\")\n",
    "    nothing_rate = 1 - spilt_rate - weld_rate\n",
    "    population = [0,1,2]\n",
    "    weights = [nothing_rate, spilt_rate, weld_rate]\n",
    "    for i in range(10000*second):\n",
    "        num = random.choices(population, weights)[0]\n",
    "        switch = Python_Switch()\n",
    "        switch.behave(num, quard_example)\n",
    "    size_distribution = find_size(quard_example.root)\n",
    "    plot_size_distribution(size_distribution)\n",
    "    quard_example.graph()\n",
    "    return quard_example"
   ]
  },
  {
   "cell_type": "code",
   "execution_count": 19,
   "id": "ee634fe3",
   "metadata": {
    "scrolled": true
   },
   "outputs": [
    {
     "name": "stdout",
     "output_type": "stream",
     "text": [
      "sizes:  [2.1684043449710089e-13, 8.673617379884035e-13, 3.469446951953614e-12, 1.3877787807814457e-11, 5.551115123125783e-11, 2.220446049250313e-10, 8.881784197001252e-10, 3.552713678800501e-09, 1.4210854715202004e-08, 5.6843418860808015e-08, 2.2737367544323206e-07, 9.094947017729282e-07, 3.637978807091713e-06, 1.4551915228366852e-05, 5.820766091346741e-05, 0.00023283064365386963, 0.0009313225746154785, 0.003725290298461914, 0.014901161193847656, 0.059604644775390625, 0.2384185791015625, 0.95367431640625, 3.814697265625, 15.2587890625, 61.03515625, 244.140625, 976.5625, 3906.25, 15625.0, 62500.0]\n",
      "counts:  [4, 19, 31, 39, 84, 128, 182, 301, 395, 635, 895, 1297, 1724, 2343, 3094, 3699, 4133, 4356, 3852, 3474, 2722, 2084, 1434, 910, 523, 242, 112, 59, 23, 3]\n"
     ]
    },
    {
     "data": {
      "image/png": "[encoded data removed]",
      "text/plain": [
       "<Figure size 432x288 with 1 Axes>"
      ]
     },
     "metadata": {
      "needs_background": "light"
     },
     "output_type": "display_data"
    },
    {
     "name": "stdout",
     "output_type": "stream",
     "text": [
      "Number of segments: 38797\n",
      "Minimum segment area: 0.000 units\n"
     ]
    },
    {
     "data": {
      "image/png": "[encoded data removed]",
      "text/plain": [
       "<Figure size 576x576 with 1 Axes>"
      ]
     },
     "metadata": {
      "needs_background": "light"
     },
     "output_type": "display_data"
    }
   ],
   "source": [
    "quard_50000times = spilt_weld_simulate(0.554,0.3,5)"
   ]
  },
  {
   "cell_type": "markdown",
   "id": "8c28a039",
   "metadata": {},
   "source": [
    "## Check whether the size distribution is a powerlaw distribtuion"
   ]
  },
  {
   "cell_type": "code",
   "execution_count": 20,
   "id": "4a2a8dc1",
   "metadata": {},
   "outputs": [],
   "source": [
    "# install by `pip install powerlaw`\n",
    "import powerlaw\n",
    "import matplotlib.pyplot as plt\n",
    "\n",
    "def check_power_law_distribution(size_distribution):\n",
    "    sizes = list(size_distribution.keys())\n",
    "    counts = list(size_distribution.values())\n",
    "\n",
    "    # Fit power law model\n",
    "    fit = powerlaw.Fit(sizes, xmin=min(sizes))\n",
    "\n",
    "    # Plot the distribution and power law fit\n",
    "    fit.plot_ccdf(color='r', linewidth=2)\n",
    "    fit.power_law.plot_ccdf(color='g', linestyle='--', ax=plt.gca())\n",
    "\n",
    "    # Perform goodness-of-fit test\n",
    "    R, p_value = fit.distribution_compare('power_law', 'exponential', normalized_ratio=True)\n",
    "\n",
    "    if p_value < 0.05:\n",
    "        print(\"The size distribution is not a good fit for a power law distribution.\")\n",
    "    else:\n",
    "        print(\"The size distribution is a good fit for a power law distribution.\")\n",
    "\n",
    "    plt.xlabel('Node Size')\n",
    "    plt.ylabel('Complementary Cumulative Distribution Function (CCDF)')\n",
    "    plt.title('Size Distribution and Power Law Fit')\n",
    "    plt.show()"
   ]
  },
  {
   "cell_type": "code",
   "execution_count": 21,
   "id": "ed7efeba",
   "metadata": {
    "scrolled": true
   },
   "outputs": [
    {
     "name": "stdout",
     "output_type": "stream",
     "text": [
      "The size distribution is not a good fit for a power law distribution.\n"
     ]
    },
    {
     "data": {
      "image/png": "[encoded data removed]",
      "text/plain": [
       "<Figure size 432x288 with 1 Axes>"
      ]
     },
     "metadata": {
      "needs_background": "light"
     },
     "output_type": "display_data"
    }
   ],
   "source": [
    "# Usage:\n",
    "size_distribution = find_size(quard_50000times.root)\n",
    "check_power_law_distribution(size_distribution)"
   ]
  }
 ],
 "metadata": {
  "kernelspec": {
   "display_name": "Python 3 (ipykernel)",
   "language": "python",
   "name": "python3"
  },
  "language_info": {
   "codemirror_mode": {
    "name": "ipython",
    "version": 3
   },
   "file_extension": ".py",
   "mimetype": "text/x-python",
   "name": "python",
   "nbconvert_exporter": "python",
   "pygments_lexer": "ipython3",
   "version": "3.9.12"
  }
 },
 "nbformat": 4,
 "nbformat_minor": 5
}
