{
 "cells": [
  {
   "cell_type": "code",
   "execution_count": 1,
   "id": "4eefd151",
   "metadata": {},
   "outputs": [],
   "source": [
    "import time\n",
    "import random\n",
    "import matplotlib.pyplot as plt \n",
    "import matplotlib.patches as patches\n",
    "import uuid"
   ]
  },
  {
   "cell_type": "code",
   "execution_count": 2,
   "id": "1d9eae58",
   "metadata": {},
   "outputs": [],
   "source": [
    "#reference: https://jrtechs.net/data-science/implementing-a-quadtree-in-python"
   ]
  },
  {
   "cell_type": "markdown",
   "id": "273d33f0",
   "metadata": {},
   "source": [
    "## Node class"
   ]
  },
  {
   "cell_type": "code",
   "execution_count": 3,
   "id": "fb5be1a2",
   "metadata": {},
   "outputs": [],
   "source": [
    "# Node class is a rectangle in the quardtree\n",
    "# with (x0, y0) as coordinates, w as width, h as height\n",
    "class Node():\n",
    "    def __init__(self, x0, y0, w, h):\n",
    "        self.x0 = x0\n",
    "        self.y0 = y0\n",
    "        self.width = w\n",
    "        self.height = h\n",
    "        self.children = []\n",
    "        # the unique id for each node\n",
    "        self.id = uuid.uuid4().hex[:4]\n",
    "\n",
    "    def get_location(self):\n",
    "        return (self.x0, self.yo)\n",
    "    \n",
    "    def get_width(self):\n",
    "        return self.width\n",
    "    \n",
    "    def get_height(self):\n",
    "        return self.height\n",
    "    \n",
    "    def get_children(self):\n",
    "        return self.children"
   ]
  },
  {
   "cell_type": "code",
   "execution_count": 19,
   "id": "5811f4d9",
   "metadata": {},
   "outputs": [],
   "source": [
    "# Method about find the children and parents\n",
    "# FIND the dictionary of all nodes that can be divide(the leaf)\n",
    "def find_children(node):\n",
    "    if not node.children:\n",
    "        return [node]\n",
    "    else:\n",
    "        children = []\n",
    "        for child in node.children:\n",
    "            children +=(find_children(child))\n",
    "    return children\n",
    "\n",
    "# FIND the dictionary of all nodes that can be fuse(the parent)\n",
    "def find_parents(node):\n",
    "    if len(node.children) != 4:\n",
    "        return []\n",
    "    else: \n",
    "        parent = [node]\n",
    "        for child in node.children:\n",
    "            parent += find_parents(child)\n",
    "        return parent"
   ]
  },
  {
   "cell_type": "markdown",
   "id": "7dd5687d",
   "metadata": {},
   "source": [
    "## QTree class"
   ]
  },
  {
   "cell_type": "code",
   "execution_count": 5,
   "id": "20404e61",
   "metadata": {},
   "outputs": [],
   "source": [
    "# QTree class which can do the divide and graph of quardtree\n",
    "class QTree():\n",
    "    def __init__(self):\n",
    "        self.root = Node(0, 0, 10, 10)\n",
    "    def subdivide(self, node):\n",
    "        w_ = float(node.width/2)\n",
    "        h_ = float(node.height/2)\n",
    "        x1 = Node(node.x0, node.y0, w_, h_)\n",
    "        x2 = Node(node.x0, node.y0+h_, w_, h_)\n",
    "        x3 = Node(node.x0 + w_, node.y0, w_, h_)\n",
    "        x4 = Node(node.x0+w_, node.y0+h_, w_, h_)\n",
    "        node.children = [x1, x2, x3, x4]\n",
    "    def weld(self, node):\n",
    "        node.children = []\n",
    "    def graph(self):\n",
    "        fig, ax = plt.subplots(figsize=(20, 10))\n",
    "        plt.title(\"Quadtree\")\n",
    "        ax.set_xlim(0, 10)\n",
    "        ax.set_ylim(0, 10)\n",
    "        c = find_children(self.root)\n",
    "        print(\"Number of segments: %d\" %len(c))\n",
    "        areas = set()\n",
    "        for el in c:\n",
    "            areas.add(el.width*el.height)\n",
    "        print(\"Minimum segment area: %.3f units\" %min(areas))\n",
    "        for n in c:\n",
    "            #print((n.x0, n.y0), n.width, n.height)\n",
    "            rect = patches.Rectangle((n.x0, n.y0), n.width, n.height, fill=False)\n",
    "            ax.add_patch(rect)\n",
    "        patches_list = ax.patches\n",
    "        plt.show()"
   ]
  },
  {
   "cell_type": "markdown",
   "id": "cbb3f96a",
   "metadata": {},
   "source": [
    "## Example"
   ]
  },
  {
   "cell_type": "code",
   "execution_count": 31,
   "id": "c17872d3",
   "metadata": {},
   "outputs": [
    {
     "name": "stdout",
     "output_type": "stream",
     "text": [
      "Number of segments: 16\n",
      "Minimum segment area: 1.562 units\n"
     ]
    },
    {
     "data": {
      "image/png": "[encoded data removed]",
      "text/plain": [
       "<Figure size 1440x720 with 1 Axes>"
      ]
     },
     "metadata": {
      "needs_background": "light"
     },
     "output_type": "display_data"
    }
   ],
   "source": [
    "import random\n",
    "# example of using QTreee \n",
    "quard = QTree()\n",
    "\n",
    "# Divide random times between 0 and 5\n",
    "for i in range(random.randint(0,5)):\n",
    "    # Divide random parent node\n",
    "    quard.subdivide(find_children(quard.root)[random.randint(0,len(find_children(quard.root))-1)])\n",
    "\n",
    "# Weld random times between 0 and 4\n",
    "for i in range(random.randint(0,4)):\n",
    "    # Weld random child node to a parent node\n",
    "    if len(find_parents(quard.root)) == 1:\n",
    "        break\n",
    "    quard.weld(find_parents(quard.root)[random.randint(0,len(find_parents(quard.root))-1)])\n",
    "           \n",
    "quard.graph() "
   ]
  },
  {
   "cell_type": "code",
   "execution_count": 7,
   "id": "3adb5bb7",
   "metadata": {},
   "outputs": [
    {
     "name": "stdout",
     "output_type": "stream",
     "text": [
      "1 0.07413793258012338\n",
      "1 0.12440709343244731\n",
      "1 0.2538095440283613\n",
      "1 0.30777001061806053\n",
      "1 0.3360477220323094\n",
      "1 0.36043757264419446\n",
      "1 0.36700088501050715\n",
      "1 0.474245013303066\n",
      "1 0.5226824927612549\n"
     ]
    }
   ],
   "source": [
    "t = 0\n",
    "N = 1\n",
    "for i in range(1,10):\n",
    "    t+= random.expovariate(15)\n",
    "    print (N, t)"
   ]
  },
  {
   "cell_type": "markdown",
   "id": "096c49c8",
   "metadata": {},
   "source": [
    "## Visualization (not required)"
   ]
  },
  {
   "cell_type": "code",
   "execution_count": 8,
   "id": "04eab633",
   "metadata": {},
   "outputs": [],
   "source": [
    "# sudo apt install -y graphviz\n",
    "# pip3 install graphviz\n",
    "from graphviz import Graph, Digraph"
   ]
  },
  {
   "cell_type": "code",
   "execution_count": 16,
   "id": "30afef9c",
   "metadata": {},
   "outputs": [],
   "source": [
    "# FIND the dictionary of all nodes id that can be divide(the leaf)\n",
    "def find_children_id(node):\n",
    "    if not node.children:\n",
    "        return [node.id]\n",
    "    else:\n",
    "        children = []\n",
    "        for child in node.children:\n",
    "            children +=(find_children_id(child))\n",
    "    return children\n",
    "\n",
    "# FIND the dictionary of all nodes id that can be fuse(the parent)\n",
    "def find_parents_id(node):\n",
    "    if len(node.children) != 4:\n",
    "        return []\n",
    "    else: \n",
    "        parent = [node.id]\n",
    "        for child in node.children:\n",
    "            parent += find_parents_id(child)\n",
    "        return parent"
   ]
  },
  {
   "cell_type": "code",
   "execution_count": 11,
   "id": "2b1e68ae",
   "metadata": {},
   "outputs": [],
   "source": [
    "# draw the nodes in a tree graph\n",
    "def tree_graph(node, g):\n",
    "    if node.children == []:\n",
    "        return g\n",
    "    for child in node.children:\n",
    "        g.edge(node.id, child.id)\n",
    "        tree_graph(child, g)\n",
    "    return g"
   ]
  },
  {
   "cell_type": "code",
   "execution_count": 17,
   "id": "98885058",
   "metadata": {},
   "outputs": [
    {
     "name": "stdout",
     "output_type": "stream",
     "text": [
      "['c729', '14f2', 'b4a4', '2166', '810e', 'eb13', 'ed79', '08db', 'f6e4', '532b']\n",
      "['7045', '5c42', 'dc81']\n"
     ]
    },
    {
     "data": {
      "image/svg+xml": [
       "<?xml version=\"1.0\" encoding=\"UTF-8\" standalone=\"no\"?>\n",
       "<!DOCTYPE svg PUBLIC \"-//W3C//DTD SVG 1.1//EN\"\n",
       " \"http://www.w3.org/Graphics/SVG/1.1/DTD/svg11.dtd\">\n",
       "<!-- Generated by graphviz version 8.0.5 (20230430.1635)\n",
       " -->\n",
       "<!-- Pages: 1 -->\n",
       "<svg width=\"386pt\" height=\"260pt\"\n",
       " viewBox=\"0.00 0.00 386.35 260.00\" xmlns=\"http://www.w3.org/2000/svg\" xmlns:xlink=\"http://www.w3.org/1999/xlink\">\n",
       "<g id=\"graph0\" class=\"graph\" transform=\"scale(1 1) rotate(0) translate(4 256)\">\n",
       "<polygon fill=\"white\" stroke=\"none\" points=\"-4,4 -4,-256 382.35,-256 382.35,4 -4,4\"/>\n",
       "<!-- 7045 -->\n",
       "<g id=\"node1\" class=\"node\">\n",
       "<title>7045</title>\n",
       "<ellipse fill=\"none\" stroke=\"black\" cx=\"171\" cy=\"-234\" rx=\"27.35\" ry=\"18\"/>\n",
       "<text text-anchor=\"middle\" x=\"171\" y=\"-227.82\" font-family=\"Times,serif\" font-size=\"14.00\">7045</text>\n",
       "</g>\n",
       "<!-- c729 -->\n",
       "<g id=\"node2\" class=\"node\">\n",
       "<title>c729</title>\n",
       "<ellipse fill=\"none\" stroke=\"black\" cx=\"63\" cy=\"-162\" rx=\"27\" ry=\"18\"/>\n",
       "<text text-anchor=\"middle\" x=\"63\" y=\"-155.82\" font-family=\"Times,serif\" font-size=\"14.00\">c729</text>\n",
       "</g>\n",
       "<!-- 7045&#45;&gt;c729 -->\n",
       "<g id=\"edge1\" class=\"edge\">\n",
       "<title>7045&#45;&gt;c729</title>\n",
       "<path fill=\"none\" stroke=\"black\" d=\"M151.94,-220.65C135.05,-209.7 110.17,-193.58 91.02,-181.16\"/>\n",
       "<polygon fill=\"black\" stroke=\"black\" points=\"93.16,-177.73 82.87,-175.23 89.36,-183.61 93.16,-177.73\"/>\n",
       "</g>\n",
       "<!-- 5c42 -->\n",
       "<g id=\"node3\" class=\"node\">\n",
       "<title>5c42</title>\n",
       "<ellipse fill=\"none\" stroke=\"black\" cx=\"135\" cy=\"-162\" rx=\"27\" ry=\"18\"/>\n",
       "<text text-anchor=\"middle\" x=\"135\" y=\"-155.82\" font-family=\"Times,serif\" font-size=\"14.00\">5c42</text>\n",
       "</g>\n",
       "<!-- 7045&#45;&gt;5c42 -->\n",
       "<g id=\"edge2\" class=\"edge\">\n",
       "<title>7045&#45;&gt;5c42</title>\n",
       "<path fill=\"none\" stroke=\"black\" d=\"M162.47,-216.41C158.3,-208.3 153.18,-198.35 148.5,-189.25\"/>\n",
       "<polygon fill=\"black\" stroke=\"black\" points=\"151.16,-187.76 143.47,-180.47 144.93,-190.96 151.16,-187.76\"/>\n",
       "</g>\n",
       "<!-- f6e4 -->\n",
       "<g id=\"node12\" class=\"node\">\n",
       "<title>f6e4</title>\n",
       "<ellipse fill=\"none\" stroke=\"black\" cx=\"207\" cy=\"-162\" rx=\"27\" ry=\"18\"/>\n",
       "<text text-anchor=\"middle\" x=\"207\" y=\"-155.82\" font-family=\"Times,serif\" font-size=\"14.00\">f6e4</text>\n",
       "</g>\n",
       "<!-- 7045&#45;&gt;f6e4 -->\n",
       "<g id=\"edge11\" class=\"edge\">\n",
       "<title>7045&#45;&gt;f6e4</title>\n",
       "<path fill=\"none\" stroke=\"black\" d=\"M179.53,-216.41C183.7,-208.3 188.82,-198.35 193.5,-189.25\"/>\n",
       "<polygon fill=\"black\" stroke=\"black\" points=\"197.07,-190.96 198.53,-180.47 190.84,-187.76 197.07,-190.96\"/>\n",
       "</g>\n",
       "<!-- 532b -->\n",
       "<g id=\"node13\" class=\"node\">\n",
       "<title>532b</title>\n",
       "<ellipse fill=\"none\" stroke=\"black\" cx=\"279\" cy=\"-162\" rx=\"27.35\" ry=\"18\"/>\n",
       "<text text-anchor=\"middle\" x=\"279\" y=\"-155.82\" font-family=\"Times,serif\" font-size=\"14.00\">532b</text>\n",
       "</g>\n",
       "<!-- 7045&#45;&gt;532b -->\n",
       "<g id=\"edge12\" class=\"edge\">\n",
       "<title>7045&#45;&gt;532b</title>\n",
       "<path fill=\"none\" stroke=\"black\" d=\"M190.06,-220.65C206.95,-209.7 231.83,-193.58 250.98,-181.16\"/>\n",
       "<polygon fill=\"black\" stroke=\"black\" points=\"252.64,-183.61 259.13,-175.23 248.84,-177.73 252.64,-183.61\"/>\n",
       "</g>\n",
       "<!-- 14f2 -->\n",
       "<g id=\"node4\" class=\"node\">\n",
       "<title>14f2</title>\n",
       "<ellipse fill=\"none\" stroke=\"black\" cx=\"27\" cy=\"-90\" rx=\"27\" ry=\"18\"/>\n",
       "<text text-anchor=\"middle\" x=\"27\" y=\"-83.83\" font-family=\"Times,serif\" font-size=\"14.00\">14f2</text>\n",
       "</g>\n",
       "<!-- 5c42&#45;&gt;14f2 -->\n",
       "<g id=\"edge3\" class=\"edge\">\n",
       "<title>5c42&#45;&gt;14f2</title>\n",
       "<path fill=\"none\" stroke=\"black\" d=\"M116.19,-148.81C99.33,-137.88 74.38,-121.71 55.15,-109.24\"/>\n",
       "<polygon fill=\"black\" stroke=\"black\" points=\"57.25,-105.79 46.96,-103.29 53.45,-111.66 57.25,-105.79\"/>\n",
       "</g>\n",
       "<!-- b4a4 -->\n",
       "<g id=\"node5\" class=\"node\">\n",
       "<title>b4a4</title>\n",
       "<ellipse fill=\"none\" stroke=\"black\" cx=\"99\" cy=\"-90\" rx=\"27\" ry=\"18\"/>\n",
       "<text text-anchor=\"middle\" x=\"99\" y=\"-83.83\" font-family=\"Times,serif\" font-size=\"14.00\">b4a4</text>\n",
       "</g>\n",
       "<!-- 5c42&#45;&gt;b4a4 -->\n",
       "<g id=\"edge4\" class=\"edge\">\n",
       "<title>5c42&#45;&gt;b4a4</title>\n",
       "<path fill=\"none\" stroke=\"black\" d=\"M126.65,-144.76C122.38,-136.46 117.08,-126.15 112.27,-116.79\"/>\n",
       "<polygon fill=\"black\" stroke=\"black\" points=\"114.99,-115.44 107.3,-108.15 108.77,-118.64 114.99,-115.44\"/>\n",
       "</g>\n",
       "<!-- 2166 -->\n",
       "<g id=\"node6\" class=\"node\">\n",
       "<title>2166</title>\n",
       "<ellipse fill=\"none\" stroke=\"black\" cx=\"171\" cy=\"-90\" rx=\"27.35\" ry=\"18\"/>\n",
       "<text text-anchor=\"middle\" x=\"171\" y=\"-83.83\" font-family=\"Times,serif\" font-size=\"14.00\">2166</text>\n",
       "</g>\n",
       "<!-- 5c42&#45;&gt;2166 -->\n",
       "<g id=\"edge5\" class=\"edge\">\n",
       "<title>5c42&#45;&gt;2166</title>\n",
       "<path fill=\"none\" stroke=\"black\" d=\"M143.35,-144.76C147.62,-136.46 152.92,-126.15 157.73,-116.79\"/>\n",
       "<polygon fill=\"black\" stroke=\"black\" points=\"161.23,-118.64 162.7,-108.15 155.01,-115.44 161.23,-118.64\"/>\n",
       "</g>\n",
       "<!-- dc81 -->\n",
       "<g id=\"node7\" class=\"node\">\n",
       "<title>dc81</title>\n",
       "<ellipse fill=\"none\" stroke=\"black\" cx=\"243\" cy=\"-90\" rx=\"27\" ry=\"18\"/>\n",
       "<text text-anchor=\"middle\" x=\"243\" y=\"-83.83\" font-family=\"Times,serif\" font-size=\"14.00\">dc81</text>\n",
       "</g>\n",
       "<!-- 5c42&#45;&gt;dc81 -->\n",
       "<g id=\"edge6\" class=\"edge\">\n",
       "<title>5c42&#45;&gt;dc81</title>\n",
       "<path fill=\"none\" stroke=\"black\" d=\"M153.81,-148.81C170.67,-137.88 195.62,-121.71 214.85,-109.24\"/>\n",
       "<polygon fill=\"black\" stroke=\"black\" points=\"216.55,-111.66 223.04,-103.29 212.75,-105.79 216.55,-111.66\"/>\n",
       "</g>\n",
       "<!-- 810e -->\n",
       "<g id=\"node8\" class=\"node\">\n",
       "<title>810e</title>\n",
       "<ellipse fill=\"none\" stroke=\"black\" cx=\"135\" cy=\"-18\" rx=\"27\" ry=\"18\"/>\n",
       "<text text-anchor=\"middle\" x=\"135\" y=\"-11.82\" font-family=\"Times,serif\" font-size=\"14.00\">810e</text>\n",
       "</g>\n",
       "<!-- dc81&#45;&gt;810e -->\n",
       "<g id=\"edge7\" class=\"edge\">\n",
       "<title>dc81&#45;&gt;810e</title>\n",
       "<path fill=\"none\" stroke=\"black\" d=\"M224.19,-76.81C207.33,-65.88 182.38,-49.71 163.15,-37.24\"/>\n",
       "<polygon fill=\"black\" stroke=\"black\" points=\"165.25,-33.79 154.96,-31.29 161.45,-39.66 165.25,-33.79\"/>\n",
       "</g>\n",
       "<!-- eb13 -->\n",
       "<g id=\"node9\" class=\"node\">\n",
       "<title>eb13</title>\n",
       "<ellipse fill=\"none\" stroke=\"black\" cx=\"207\" cy=\"-18\" rx=\"27\" ry=\"18\"/>\n",
       "<text text-anchor=\"middle\" x=\"207\" y=\"-11.82\" font-family=\"Times,serif\" font-size=\"14.00\">eb13</text>\n",
       "</g>\n",
       "<!-- dc81&#45;&gt;eb13 -->\n",
       "<g id=\"edge8\" class=\"edge\">\n",
       "<title>dc81&#45;&gt;eb13</title>\n",
       "<path fill=\"none\" stroke=\"black\" d=\"M234.65,-72.76C230.38,-64.46 225.08,-54.15 220.27,-44.79\"/>\n",
       "<polygon fill=\"black\" stroke=\"black\" points=\"222.99,-43.44 215.3,-36.15 216.77,-46.64 222.99,-43.44\"/>\n",
       "</g>\n",
       "<!-- ed79 -->\n",
       "<g id=\"node10\" class=\"node\">\n",
       "<title>ed79</title>\n",
       "<ellipse fill=\"none\" stroke=\"black\" cx=\"279\" cy=\"-18\" rx=\"27\" ry=\"18\"/>\n",
       "<text text-anchor=\"middle\" x=\"279\" y=\"-11.82\" font-family=\"Times,serif\" font-size=\"14.00\">ed79</text>\n",
       "</g>\n",
       "<!-- dc81&#45;&gt;ed79 -->\n",
       "<g id=\"edge9\" class=\"edge\">\n",
       "<title>dc81&#45;&gt;ed79</title>\n",
       "<path fill=\"none\" stroke=\"black\" d=\"M251.35,-72.76C255.62,-64.46 260.92,-54.15 265.73,-44.79\"/>\n",
       "<polygon fill=\"black\" stroke=\"black\" points=\"269.23,-46.64 270.7,-36.15 263.01,-43.44 269.23,-46.64\"/>\n",
       "</g>\n",
       "<!-- 08db -->\n",
       "<g id=\"node11\" class=\"node\">\n",
       "<title>08db</title>\n",
       "<ellipse fill=\"none\" stroke=\"black\" cx=\"351\" cy=\"-18\" rx=\"27.35\" ry=\"18\"/>\n",
       "<text text-anchor=\"middle\" x=\"351\" y=\"-11.82\" font-family=\"Times,serif\" font-size=\"14.00\">08db</text>\n",
       "</g>\n",
       "<!-- dc81&#45;&gt;08db -->\n",
       "<g id=\"edge10\" class=\"edge\">\n",
       "<title>dc81&#45;&gt;08db</title>\n",
       "<path fill=\"none\" stroke=\"black\" d=\"M261.81,-76.81C278.67,-65.88 303.62,-49.71 322.85,-37.24\"/>\n",
       "<polygon fill=\"black\" stroke=\"black\" points=\"324.55,-39.66 331.04,-31.29 320.75,-33.79 324.55,-39.66\"/>\n",
       "</g>\n",
       "</g>\n",
       "</svg>\n"
      ],
      "text/plain": [
       "<graphviz.graphs.Digraph at 0x7fe76b270b80>"
      ]
     },
     "execution_count": 17,
     "metadata": {},
     "output_type": "execute_result"
    }
   ],
   "source": [
    "quard = QTree()\n",
    "g = Digraph()\n",
    "# Divide the quard tree first time\n",
    "quard.subdivide(quard.root)\n",
    "for i in range(random.randint(0,5)):\n",
    "    quard.subdivide(find_children(quard.root)[random.randint(0,len(find_children(quard.root))-1)])\n",
    "print(find_children_id(quard.root))\n",
    "print(find_parents_id(quard.root))\n",
    "tree_graph(quard.root, g)"
   ]
  }
 ],
 "metadata": {
  "kernelspec": {
   "display_name": "Python 3 (ipykernel)",
   "language": "python",
   "name": "python3"
  },
  "language_info": {
   "codemirror_mode": {
    "name": "ipython",
    "version": 3
   },
   "file_extension": ".py",
   "mimetype": "text/x-python",
   "name": "python",
   "nbconvert_exporter": "python",
   "pygments_lexer": "ipython3",
   "version": "3.9.12"
  }
 },
 "nbformat": 4,
 "nbformat_minor": 5
}
