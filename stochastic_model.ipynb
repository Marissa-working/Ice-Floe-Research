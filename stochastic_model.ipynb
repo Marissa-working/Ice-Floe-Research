{
 "cells": [
  {
   "cell_type": "code",
   "execution_count": 1,
   "id": "131182c3",
   "metadata": {},
   "outputs": [],
   "source": [
    "import pandas as pd\n",
    "import matplotlib.pyplot as plt\n",
    "import random\n",
    "import time\n",
    "from numpy.random import normal\n",
    "import numpy as np\n",
    "from sklearn.linear_model import LinearRegression\n",
    "import math"
   ]
  },
  {
   "cell_type": "code",
   "execution_count": null,
   "id": "e1eb7d9c",
   "metadata": {},
   "outputs": [],
   "source": []
  },
  {
   "cell_type": "code",
   "execution_count": 3,
   "id": "e14276a3",
   "metadata": {},
   "outputs": [],
   "source": [
    "# Pick a random event to occurr based on the probability of\n",
    "# Each happening\n",
    "\n",
    "# Binning Function\n",
    "\n",
    "def binning(dictionary, binsize):\n",
    "    binned = {}\n",
    "    bins = {}\n",
    "    sizes = []\n",
    "    for i in range(5000):\n",
    "        if i != 0:\n",
    "            sizes.append(i*binsize)\n",
    "    for size in sizes:\n",
    "        binned[size] = 0\n",
    "        \n",
    "    for value in dictionary:\n",
    "        floe_count = dictionary[value]\n",
    "        opt_out = 0\n",
    "        for size in sizes:\n",
    "            if opt_out == 1:\n",
    "                continue\n",
    "            elif value < size and value > 0:\n",
    "                binned[size] += floe_count\n",
    "                opt_out = 1\n",
    "    for key in binned:\n",
    "        if binned[key] > 0:\n",
    "            bins[key] = binned[key]\n",
    "        \n",
    "    return bins\n"
   ]
  },
  {
   "cell_type": "code",
   "execution_count": 4,
   "id": "41d4fcd6",
   "metadata": {},
   "outputs": [
    {
     "data": {
      "text/plain": [
       "{5: 8, 10: 3, 15: 1}"
      ]
     },
     "execution_count": 4,
     "metadata": {},
     "output_type": "execute_result"
    }
   ],
   "source": [
    "# Testing the Binning function\n",
    "test = {1:3, 2:5, 6:3, 11:1}\n",
    "\n",
    "binning(test, 5)\n",
    "# looks good"
   ]
  },
  {
   "cell_type": "markdown",
   "id": "bf090de7",
   "metadata": {},
   "source": [
    "## Main Model (probability based on amount available)"
   ]
  },
  {
   "cell_type": "code",
   "execution_count": 14,
   "id": "964f23c0",
   "metadata": {},
   "outputs": [],
   "source": [
    "# Set Parameters For:\n",
    "# 0. Fracture Rate\n",
    "rfrac2 = 0.3\n",
    "# 1. Weld Rate\n",
    "rweld2 = 0.2\n",
    "# 2. No event (1- (Weld+Fract))\n",
    "rnone2 = 0.5\n",
    "\n",
    "# Pick a random event to occurr based on the probability of\n",
    "# Each happening\n",
    "\n",
    "sampleList = [0, 1, 2]\n",
    "\n",
    "# list of random events, where num is how many events to pick\n",
    "def random_event(num):\n",
    "    randomList = random.choices(\n",
    "      sampleList, weights=(rnone2, rfrac2, rweld2), k=num)\n",
    "    return(randomList)\n",
    "\n",
    "\n",
    "def pick_floe(fsd):\n",
    "    randomPick = random.choices(\n",
    "      list(fsd.keys()), weights=(list(fsd.values())), k=1)\n",
    "    return randomPick[0]\n",
    "\n",
    "\n"
   ]
  },
  {
   "cell_type": "code",
   "execution_count": 30,
   "id": "d29b4db7",
   "metadata": {},
   "outputs": [],
   "source": [
    "\n",
    "def fsd_function():\n",
    "\n",
    "    fsd_dict2 = {20000:1}\n",
    "    \n",
    "\n",
    "# this value is for the weld loop\n",
    "    opt_out = 0\n",
    "\n",
    "# THIS MODEL IS ASSUMING THE PROBABILITY OF CHOOSING A SIZE IS BASED ON AMOUNT \n",
    "\n",
    "    events = random_event(80000)\n",
    "    for val in events:\n",
    "        # define all the possible sizes\n",
    "        keys = list(fsd_dict2.keys())\n",
    "        sizes =[]\n",
    "        for key in keys:\n",
    "            if fsd_dict2[key] > 0:\n",
    "                sizes.append(key)\n",
    "    \n",
    "        if val == 0:\n",
    "            continue\n",
    "        elif val == 1:   # Fracture occurs\n",
    "            # choose a place to break \n",
    "            # Randomly chose a place to have a fracture\n",
    "            # and Randomly choose how many it will break in to (4, 16?)\n",
    "\n",
    "            choice = float(pick_floe(fsd_dict2))\n",
    "            new_size = choice/2\n",
    "            \n",
    "        # remove 1 from the bigger value and add 4 to the broken value\n",
    "            fsd_dict2[choice] -= 1\n",
    "            \n",
    "            if new_size in fsd_dict2:\n",
    "                    fsd_dict2[new_size] += 4\n",
    "            else:\n",
    "                fsd_dict2[new_size] = 4\n",
    "                \n",
    "\n",
    "        elif val == 2:   # Weld occurs\n",
    "            # choose a place to weld\n",
    "            choice = float(pick_floe(fsd_dict2))\n",
    "\n",
    "            \n",
    "            if fsd_dict2[choice] < 4:\n",
    "                # check and see how many there are in our choice\n",
    "                choice_total = fsd_dict2[choice]\n",
    "            \n",
    "                # see how many floes we need\n",
    "                needed_floes = (4 - choice_total)\n",
    "            \n",
    "                for i in range(1000):\n",
    "                    if opt_out == 1:\n",
    "                        continue\n",
    "                \n",
    "                # check if a sligtly larger floe is available to weld \n",
    "                    elif (choice + i) in fsd_dict2 and fsd_dict2[(choice + i)] > 0:\n",
    "                        if fsd_dict2[choice + i] >= needed_floes:\n",
    "                            fsd_dict2[choice + i] -= needed_floes\n",
    "                            fsd_dict2[choice] = 0\n",
    "                            opt_out = 1\n",
    "                    \n",
    "                    # change the vals in the dictionary\n",
    "                            if needed_floes == 3:\n",
    "                                new_size = (choice + i)*2\n",
    "                                if new_size in fsd_dict2:\n",
    "                                    fsd_dict2[new_size] += 1\n",
    "\n",
    "                                else:\n",
    "                                    fsd_dict2[new_size] = 1\n",
    "                            else: \n",
    "                                new_size = (choice + i) + choice\n",
    "                                if new_size in fsd_dict2:\n",
    "                                    fsd_dict2[new_size] += 1\n",
    "\n",
    "                                else:\n",
    "                                    fsd_dict2[new_size] = 1\n",
    "    return fsd_dict2\n",
    "# the output of this function is a dictionary of the fsd\n",
    "\n"
   ]
  },
  {
   "cell_type": "markdown",
   "id": "1c86e3dd",
   "metadata": {},
   "source": [
    "## Finding averages"
   ]
  },
  {
   "cell_type": "code",
   "execution_count": 7,
   "id": "3ffc0d58",
   "metadata": {},
   "outputs": [],
   "source": [
    "#run trials function and get the averages\n",
    "\n",
    "def fsd_trials(trial_amount, binsize):\n",
    "    \n",
    "    averages = {}\n",
    "    total = {}\n",
    "    for i in range(trial_amount):\n",
    "        # calls fsd function to get a dict\n",
    "        fsd = fsd_function()\n",
    "        for value in fsd:\n",
    "            if value in averages:\n",
    "                averages[value].append(fsd[value])\n",
    "            else:\n",
    "                averages[value] = []\n",
    "                averages[value].append(fsd[value])\n",
    "\n",
    "    for value in averages:\n",
    "        total = 0\n",
    "        for number in averages[value]:\n",
    "            total += number\n",
    "        averages[value] = (total/trial_amount)\n",
    "            \n",
    "        \n",
    "    \n",
    "    # binning the trials with binning function\n",
    "    bin_dict = binning(averages, binsize)\n",
    "    return bin_dict\n"
   ]
  },
  {
   "cell_type": "code",
   "execution_count": 31,
   "id": "24b2dc0b",
   "metadata": {},
   "outputs": [],
   "source": [
    "trial_dict = fsd_trials(5, 200)"
   ]
  },
  {
   "cell_type": "code",
   "execution_count": 27,
   "id": "79f476cf",
   "metadata": {},
   "outputs": [
    {
     "name": "stdout",
     "output_type": "stream",
     "text": [
      "Max value element :  70980.7\n",
      "Min value element :  0.3\n",
      "Keys:  dict_keys([200, 400, 800, 1400, 2600, 5200, 10200]) \n",
      "Values dict_values([70980.7, 540.0, 206.1, 62.9, 16.3, 2.5, 0.3])\n"
     ]
    },
    {
     "data": {
      "image/png": "[encoded data removed]",
      "text/plain": [
       "<Figure size 640x480 with 1 Axes>"
      ]
     },
     "metadata": {},
     "output_type": "display_data"
    }
   ],
   "source": [
    "import numpy as np\n",
    "\n",
    "sizes = list(trial_dict.keys())\n",
    "counts = list(trial_dict.values())\n",
    "total_count = sum(counts)\n",
    "\n",
    "\n",
    "plt.scatter(sizes, counts)\n",
    "plt.plot(sizes, counts)\n",
    "plt.xlabel(\"Width (m)\")\n",
    "plt.ylabel(\"Count\")\n",
    "plt.title(\"Model For FSD\")\n",
    "plt.yscale(\"log\")\n",
    "plt.xscale(\"log\")\n",
    "#count, bins, ignored = plt.line(sizes, result)\n",
    "print (\"Max value element : \", max(counts))\n",
    "print(\"Min value element : \", min(counts))\n",
    "print(\"Keys: \", trial_dict.keys(), \"\\nValues\", trial_dict.values())"
   ]
  },
  {
   "cell_type": "code",
   "execution_count": 32,
   "id": "4aee450d",
   "metadata": {},
   "outputs": [
    {
     "name": "stdout",
     "output_type": "stream",
     "text": [
      "{400: 442.4, 800: 160.2, 1400: 55.6, 2600: 14.0, 5200: 4.6, 10200: 0.6}\n",
      "[400, 10200] [442.4, 0.6]\n",
      "Max value element :  442.4\n",
      "Min value element :  0.6\n"
     ]
    },
    {
     "data": {
      "text/plain": [
       "dict_keys([400, 800, 1400, 2600, 5200, 10200])"
      ]
     },
     "execution_count": 32,
     "metadata": {},
     "output_type": "execute_result"
    },
    {
     "data": {
      "image/png": "[encoded data removed]",
      "text/plain": [
       "<Figure size 640x480 with 1 Axes>"
      ]
     },
     "metadata": {},
     "output_type": "display_data"
    }
   ],
   "source": [
    "upper_dict = {}\n",
    "for key in trial_dict:\n",
    "    if key >= 300:\n",
    "        upper_dict[key] = trial_dict[key]\n",
    "        \n",
    "print(upper_dict)\n",
    "        \n",
    "sizes = list(upper_dict.keys())\n",
    "counts = list(upper_dict.values())\n",
    "slope1 = []\n",
    "slope1.append(sizes[0])\n",
    "slope1.append(sizes[-1])\n",
    "\n",
    "slope2 = []\n",
    "slope2.append(counts[0])\n",
    "slope2.append(counts[-1])\n",
    "total_count = sum(counts)\n",
    "\n",
    "print(slope1, slope2)\n",
    "\n",
    "\n",
    "plt.scatter(sizes, counts)\n",
    "plt.plot(slope1, slope2)\n",
    "plt.xlabel(\"Width (m)\")\n",
    "plt.ylabel(\"Count\")\n",
    "plt.title(\"Model For FSD\")\n",
    "plt.yscale(\"log\")\n",
    "plt.xscale(\"log\")\n",
    "#count, bins, ignored = plt.line(sizes, result)\n",
    "print (\"Max value element : \", max(counts))\n",
    "print(\"Min value element : \", min(counts))\n",
    "upper_dict.keys()"
   ]
  },
  {
   "cell_type": "code",
   "execution_count": 12,
   "id": "e8c82d64",
   "metadata": {},
   "outputs": [],
   "source": [
    "# install by `pip install powerlaw`\n",
    "import powerlaw\n",
    "import matplotlib.pyplot as plt\n",
    "\n",
    "def check_power_law_distribution(size_distribution):\n",
    "    sizes = list(size_distribution.keys())\n",
    "    counts = list(size_distribution.values())\n",
    "\n",
    "    # Fit power law model\n",
    "    fit = powerlaw.Fit(sizes, xmin=min(sizes))\n",
    "\n",
    "    # Plot the distribution and power law fit\n",
    "    fit.plot_ccdf(color='r', linewidth=2)\n",
    "    fit.power_law.plot_ccdf(color='g', linestyle='--', ax=plt.gca())\n",
    "\n",
    "    # Perform goodness-of-fit test\n",
    "    R, p_value = fit.distribution_compare('power_law', 'exponential', normalized_ratio=True)\n",
    "\n",
    "    if p_value < 0.05:\n",
    "        print(\"The size distribution is not a good fit for a power law distribution.\", p_value)\n",
    "    else:\n",
    "        print(\"The size distribution is a good fit for a power law distribution.\", p_value)\n",
    "\n",
    "    plt.xlabel('Node Size')\n",
    "    plt.ylabel('Complementary Cumulative Distribution Function (CCDF)')\n",
    "    plt.title('Size Distribution and Power Law Fit')\n",
    "    plt.show()"
   ]
  },
  {
   "cell_type": "code",
   "execution_count": 33,
   "id": "3c8403fc",
   "metadata": {
    "scrolled": true
   },
   "outputs": [
    {
     "name": "stdout",
     "output_type": "stream",
     "text": [
      "The size distribution is a good fit for a power law distribution. 0.8887071750726947\n"
     ]
    },
    {
     "data": {
      "image/png": "[encoded data removed]",
      "text/plain": [
       "<Figure size 640x480 with 1 Axes>"
      ]
     },
     "metadata": {},
     "output_type": "display_data"
    }
   ],
   "source": [
    "check_power_law_distribution(upper_dict)"
   ]
  },
  {
   "cell_type": "markdown",
   "id": "fdbd4a8a",
   "metadata": {},
   "source": [
    "## Fracture rate is dependant on size"
   ]
  },
  {
   "cell_type": "code",
   "execution_count": null,
   "id": "18a20fb4",
   "metadata": {},
   "outputs": [],
   "source": [
    "# chooses a floe from the FSD dictionary absed on a fracture rate given\n",
    "\n",
    "def fracture_rates(dictionary, f_rate):\n",
    "    weights = []\n",
    "    total = sum(dictionary.values())\n",
    "    for key in dictionary:\n",
    "        val = dictionary[key]\n",
    "        fraction = (total - (key*val))/total\n",
    "        rate = (fraction * f_rate )\n",
    "        weights.append(rate)\n",
    "    randomList = random.choices(\n",
    "      list(dictionary.keys()), weights=(weights), k=1)\n",
    "    return randomList[0]"
   ]
  },
  {
   "cell_type": "code",
   "execution_count": null,
   "id": "f0d8f1dd",
   "metadata": {},
   "outputs": [],
   "source": [
    "# Set Parameters For:\n",
    "# 0. Fracture Rate\n",
    "rfrac2 = .05\n",
    "# 1. Weld Rate\n",
    "rweld2 = .0\n",
    "# 2. No event (1- (Weld+Fract))\n",
    "rnone2 = .95\n",
    "\n",
    "# Pick a random event to occurr based on the probability of\n",
    "# Each happening\n",
    "\n",
    "sampleList = [0, 1, 2]\n",
    "\n",
    "# list of random events, where num is how many events to pick\n",
    "def random_event2(num):\n",
    "    randomList = random.choices(\n",
    "      sampleList, weights=(rnone2, rfrac2, rweld2), k=num)\n",
    "    return(randomList)\n",
    "\n",
    "\n",
    "def pick_floe(fsd):\n",
    "    randomPick = random.choices(\n",
    "      list(fsd.keys()), weights=(list(fsd.values())), k=1)\n",
    "    return randomPick[0]"
   ]
  },
  {
   "cell_type": "code",
   "execution_count": null,
   "id": "48dcf8cc",
   "metadata": {},
   "outputs": [],
   "source": [
    "\n",
    "def fsd_function_frac():\n",
    "    # first make a dictionary of a fsd (from normal distribution)\n",
    "    #fsd_dict2 = {10000:1}\n",
    "    fsd_dict2 = {10000:1}\n",
    "    #data = normal(loc=3400, scale=925, size=1000)\n",
    "    #fsd2 = data.tolist()\n",
    "    \n",
    "    #for value in fsd2:\n",
    "       # if round(value) in fsd_dict2:\n",
    "            #fsd_dict2[round(value)] += 1\n",
    "        #else:\n",
    "            #fsd_dict2[round(value)] = 1\n",
    "\n",
    "# this value is for the weld loop\n",
    "    opt_out = 0\n",
    "\n",
    "# THIS MODEL IS ASSUMING THE PROBABILITY OF CHOOSING A SIZE IS BASED ON AMOUNT \n",
    "\n",
    "    events = random_event2(8000)\n",
    "    for val in events:\n",
    "        # define all the possible sizes\n",
    "        sizes =[]\n",
    "        for key in fsd_dict2:\n",
    "            if fsd_dict2[key] > 0:\n",
    "                sizes.append(item)\n",
    "                \n",
    "    # nothing happens\n",
    "        if val == 0:\n",
    "            continue\n",
    "            \n",
    "        if val == 1:   # Fracture occurs\n",
    "            # choose a place to break \n",
    "            #choice = float(fracture_rates(fsd_dict2, rfrac2))\n",
    "            choice = float(pick_floe(fsd_dict2))\n",
    "     \n",
    "            # and Randomly choose how many it will break in to (4, 16?)\n",
    "\n",
    "            options = [4,16]\n",
    "            #split = float(random.choice(options))\n",
    "            split = 4\n",
    "            if split == 4:    \n",
    "                new_size = choice/2\n",
    "        \n",
    "        # remove 1 from the bigger value and add 4 to the broken value\n",
    "                fsd_dict2[choice] -= 1\n",
    "            \n",
    "                if new_size in fsd_dict2:\n",
    "                    fsd_dict2[new_size] += 4\n",
    "                else:\n",
    "                    fsd_dict2[new_size] = 4\n",
    "                \n",
    "            if split == 16:\n",
    "                new_size = choice/4\n",
    "                fsd_dict2[choice] -= 1\n",
    "                if new_size in fsd_dict2:\n",
    "                    fsd_dict2[new_size] += 16\n",
    "                else:\n",
    "                    fsd_dict2[new_size] = 16\n",
    "\n",
    "\n",
    "        if val == 2:   # Weld occurs\n",
    "            # choose a place to weld\n",
    "            # OR Randomly choose a place to have a weld and randomly choose\n",
    "            # how many pieces will weld together (4-16?)\n",
    "            choice = float(pick_floe(fsd_dict2))\n",
    "\n",
    "            \n",
    "            if fsd_dict2[choice] < 4:\n",
    "                # check and see how many there are in our choice\n",
    "                choice_total = fsd_dict2[choice]\n",
    "            \n",
    "                # see how many floes we need\n",
    "                needed_floes = (4 - choice_total)\n",
    "            \n",
    "                for i in range(20):\n",
    "                    if opt_out == 1:\n",
    "                        continue\n",
    "                \n",
    "                # check if a sligtly larger floe is available to weld \n",
    "                    if (choice + i) in fsd_dict2 and fsd_dict2[(choice + i)] > 0:\n",
    "                        if fsd_dict2[choice + i] >= needed_floes:\n",
    "                            fsd_dict2[choice + i] -= needed_floes\n",
    "                            fsd_dict2[choice] = 0\n",
    "                            opt_out = 1\n",
    "                    \n",
    "                    # change the vals in the dictionary\n",
    "                            if needed_floes >=3:\n",
    "                                new_size = (choice + i)*2\n",
    "                                if new_size in fsd_dict2:\n",
    "                                    fsd_dict2[new_size] += 4\n",
    "\n",
    "                                else:\n",
    "                                    fsd_dict2[new_size] = 4\n",
    "                            else: \n",
    "                                new_size = (choice + i)+ choice\n",
    "                                if new_size in fsd_dict2:\n",
    "                                    fsd_dict2[new_size] += 4\n",
    "\n",
    "                                else:\n",
    "                                    fsd_dict2[new_size] = 4\n",
    "    return fsd_dict2\n",
    "# the output of this function is a dictionary of the fsd\n",
    "\n"
   ]
  },
  {
   "cell_type": "code",
   "execution_count": 61,
   "id": "cea29e58",
   "metadata": {},
   "outputs": [],
   "source": [
    "def fsd_trials_frac(trial_amount, binsize):\n",
    "    \n",
    "    averages = {}\n",
    "    total = {}\n",
    "    for i in range(trial_amount):\n",
    "        # calls fsd function to get a dict\n",
    "        fsd = fsd_function_frac()\n",
    "        for value in fsd:\n",
    "            if value in averages:\n",
    "                averages[value].append(fsd[value])\n",
    "            else:\n",
    "                averages[value] = []\n",
    "                averages[value].append(fsd[value])\n",
    "\n",
    "    for value in averages:\n",
    "        total = 0\n",
    "        for number in averages[value]:\n",
    "            total += number\n",
    "            averages[value] = total/trial_amount\n",
    "            \n",
    "        \n",
    "    \n",
    "    # binning the trials with binning function\n",
    "    bin_dict = binning(averages, binsize)\n",
    "    return bin_dict"
   ]
  },
  {
   "cell_type": "code",
   "execution_count": null,
   "id": "51f76a7b",
   "metadata": {},
   "outputs": [],
   "source": [
    "trial_dict2 = fsd_trials_frac(20, 1)"
   ]
  },
  {
   "cell_type": "code",
   "execution_count": null,
   "id": "9eb67f8f",
   "metadata": {},
   "outputs": [],
   "source": [
    "sizes = list(trial_dict2.keys())\n",
    "counts = list(trial_dict2.values())\n",
    "total_count = sum(counts)\n",
    "\n",
    "\n",
    "plt.scatter(sizes, counts)\n",
    "plt.plot(sizes, counts)\n",
    "plt.xlabel(\"Width (m)\")\n",
    "plt.ylabel(\"Count\")\n",
    "plt.title(\"Model For FSD\")\n",
    "#plt.yscale(\"log\")\n",
    "#plt.xscale(\"log\")\n",
    "#count, bins, ignored = plt.line(sizes, result)\n",
    "print (\"Max value element : \", max(counts))\n",
    "print(\"Min value element : \", min(counts))"
   ]
  },
  {
   "cell_type": "code",
   "execution_count": null,
   "id": "5f5c6242",
   "metadata": {},
   "outputs": [],
   "source": [
    "check_power_law_distribution(trial_dict2)"
   ]
  }
 ],
 "metadata": {
  "kernelspec": {
   "display_name": "Python 3 (ipykernel)",
   "language": "python",
   "name": "python3"
  },
  "language_info": {
   "codemirror_mode": {
    "name": "ipython",
    "version": 3
   },
   "file_extension": ".py",
   "mimetype": "text/x-python",
   "name": "python",
   "nbconvert_exporter": "python",
   "pygments_lexer": "ipython3",
   "version": "3.11.3"
  }
 },
 "nbformat": 4,
 "nbformat_minor": 5
}
