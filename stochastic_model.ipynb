{
 "cells": [
  {
   "cell_type": "code",
   "execution_count": 1,
   "id": "131182c3",
   "metadata": {},
   "outputs": [],
   "source": [
    "import pandas as pd\n",
    "import matplotlib.pyplot as plt\n",
    "import random\n",
    "import time\n",
    "from numpy.random import normal"
   ]
  },
  {
   "cell_type": "code",
   "execution_count": 2,
   "id": "fc374b15",
   "metadata": {},
   "outputs": [
    {
     "data": {
      "image/png": "[encoded data removed]",
      "text/plain": [
       "<Figure size 640x480 with 1 Axes>"
      ]
     },
     "metadata": {},
     "output_type": "display_data"
    }
   ],
   "source": [
    "# Start with a normal distribution for the original floe sizes\n",
    "# with mean = 3,400 meters...?\n",
    "# size = 500\n",
    "\n",
    "data = normal(loc=3400, scale=925, size=3000)\n",
    "\n",
    "fsd = data.tolist()\n",
    "\n",
    "count, bins, ignored = plt.hist(data, 30)\n",
    "plt.show()\n"
   ]
  },
  {
   "cell_type": "code",
   "execution_count": 3,
   "id": "e14276a3",
   "metadata": {},
   "outputs": [],
   "source": [
    "# Set Parameters For:\n",
    "# 0. Fracture Rate\n",
    "rfrac = .7\n",
    "# 1. Weld Rate\n",
    "rweld = .2\n",
    "# 2. No event (1- (Weld+Fract))\n",
    "rnone = .1\n",
    "\n",
    "# Pick a random event to occurr based on the probability of\n",
    "# Each happening\n",
    "\n",
    "sampleList = [0, 1, 2]\n",
    "\n",
    "# list of random events, where num is how many events to pick\n",
    "def random_event(num):\n",
    "    randomList = random.choices(\n",
    "      sampleList, weights=(rnone, rfrac, rweld), k=num)\n",
    "    return(randomList)"
   ]
  },
  {
   "cell_type": "code",
   "execution_count": null,
   "id": "41d4fcd6",
   "metadata": {},
   "outputs": [],
   "source": []
  },
  {
   "cell_type": "markdown",
   "id": "56c19e3f",
   "metadata": {},
   "source": [
    "## Equal Probability Model"
   ]
  },
  {
   "cell_type": "code",
   "execution_count": 4,
   "id": "4cf46e80",
   "metadata": {},
   "outputs": [],
   "source": [
    "# add original normal distribution values to the dictionary\n",
    "\n",
    "fsd_dict = {}\n",
    "\n",
    "for value in fsd:\n",
    "    if round(value) in fsd_dict:\n",
    "        fsd_dict[round(value)] += 1\n",
    "    else:\n",
    "        fsd_dict[round(value)] = 1\n",
    "\n",
    "# this value is for the weld loop\n",
    "opt_out = 0\n",
    "\n",
    "# THIS MODEL IS ASSUMING THE PROBABILITY OF CHOOSING A SIZE IS EQUAL \n",
    "\n",
    "events = random_event(8000)\n",
    "for val in events:\n",
    "    # define all the possible sizes\n",
    "    keys = list(fsd_dict.keys())\n",
    "    sizes =[]\n",
    "    for item in keys:\n",
    "        if fsd_dict[item] > 0:\n",
    "            sizes.append(item)\n",
    "    \n",
    "    if val == 0:\n",
    "        continue\n",
    "    if val == 1:   # Fracture occurs\n",
    "        # choose a place to break\n",
    "        \n",
    "        # Randomly chose a place to have a fracture\n",
    "        # and Randomly choose how many it will break in to (4, 16?)\n",
    "\n",
    "        choice = float(random.choice(sizes))\n",
    "        new_size = choice/2\n",
    "        \n",
    "        # remove 1 from the bigger value and add 4 to the broken value\n",
    "        fsd_dict[choice] -= 1\n",
    "        \n",
    "        if new_size in fsd_dict:\n",
    "            fsd_dict[new_size] += 4\n",
    "        else:\n",
    "            fsd_dict[new_size] = 4\n",
    "\n",
    "    if val == 2:   # Weld occurs\n",
    "        # choose a place to weld\n",
    "        # OR Randomly choose a place to have a weld and randomly choose\n",
    "        # how many pieces will weld together (4-16?)\n",
    "        choice = float(random.choice(sizes))\n",
    "\n",
    "            \n",
    "        if fsd_dict[choice] < 4:\n",
    "            # check and see how many there are in our choice\n",
    "            choice_total = fsd_dict[choice]\n",
    "            \n",
    "            # see how many floes we need\n",
    "            needed_floes = (4 - choice_total)\n",
    "            \n",
    "            for i in range(20):\n",
    "                if opt_out == 1:\n",
    "                    continue\n",
    "                \n",
    "                # check if a sligtly larger floe is available to weld \n",
    "                if (choice + i) in fsd_dict and fsd_dict[(choice + i)] > 0:\n",
    "                    if fsd_dict[choice + i] >= needed_floes:\n",
    "                        fsd_dict[choice + i] -= needed_floes\n",
    "                        fsd_dict[choice] = 0\n",
    "                        opt_out = 1\n",
    "                    \n",
    "                    # change the vals in the dictionary\n",
    "                        if needed_floes >=3:\n",
    "                            new_size = (choice + i)*2\n",
    "                            if new_size in fsd_dict:\n",
    "                                fsd_dict[new_size] += 4\n",
    "\n",
    "                            else:\n",
    "                                fsd_dict[new_size] = 4\n",
    "                        else: \n",
    "                            new_size = (choice + i)+ choice\n",
    "                            if new_size in fsd_dict:\n",
    "                                fsd_dict[new_size] += 4\n",
    "\n",
    "                            else:\n",
    "                                fsd_dict[new_size] = 4\n",
    "                        \n",
    "        \n",
    "\n"
   ]
  },
  {
   "cell_type": "code",
   "execution_count": 5,
   "id": "ae0b91e4",
   "metadata": {},
   "outputs": [
    {
     "ename": "ValueError",
     "evalue": "too many values to unpack (expected 3)",
     "output_type": "error",
     "traceback": [
      "\u001b[1;31m---------------------------------------------------------------------------\u001b[0m",
      "\u001b[1;31mValueError\u001b[0m                                Traceback (most recent call last)",
      "Cell \u001b[1;32mIn[5], line 22\u001b[0m\n\u001b[0;32m     20\u001b[0m plt\u001b[38;5;241m.\u001b[39myscale(\u001b[38;5;124m\"\u001b[39m\u001b[38;5;124mlog\u001b[39m\u001b[38;5;124m\"\u001b[39m)\n\u001b[0;32m     21\u001b[0m plt\u001b[38;5;241m.\u001b[39mxscale(\u001b[38;5;124m\"\u001b[39m\u001b[38;5;124mlog\u001b[39m\u001b[38;5;124m\"\u001b[39m)\n\u001b[1;32m---> 22\u001b[0m count, bins, ignored \u001b[38;5;241m=\u001b[39m plt\u001b[38;5;241m.\u001b[39mbar(sizes, result, \u001b[38;5;241m700\u001b[39m)\n",
      "\u001b[1;31mValueError\u001b[0m: too many values to unpack (expected 3)"
     ]
    },
    {
     "data": {
      "image/png": "[encoded data removed]",
      "text/plain": [
       "<Figure size 640x480 with 1 Axes>"
      ]
     },
     "metadata": {},
     "output_type": "display_data"
    }
   ],
   "source": [
    "import numpy as np\n",
    "\n",
    "sizes = list(fsd_dict.keys())\n",
    "counts = list(fsd_dict.values())\n",
    "total_count = sum(counts)\n",
    "\n",
    "# result in a separate variable\n",
    "result = [x/total_count for x in counts]\n",
    "\n",
    "result\n",
    "     \n",
    "\n",
    "d = {'sizes': sizes, 'fraction': counts}\n",
    "ice = pd.DataFrame(data=d)\n",
    "\n",
    "plt.bar(sizes, counts, width = 0)\n",
    "plt.xlabel(\"Width (m)\")\n",
    "plt.ylabel(\"Count\")\n",
    "plt.title(\"Model For FSD\")\n",
    "plt.yscale(\"log\")\n",
    "plt.xscale(\"log\")\n",
    "count, bins, ignored = plt.bar(sizes, result, 700)\n",
    "\n"
   ]
  },
  {
   "cell_type": "markdown",
   "id": "bf090de7",
   "metadata": {},
   "source": [
    "## Other Model (not equal probability)"
   ]
  },
  {
   "cell_type": "code",
   "execution_count": 6,
   "id": "b4acdb9c",
   "metadata": {},
   "outputs": [],
   "source": [
    "# Start with a normal distribution for the original floe sizes\n",
    "# with mean = 3,400 meters...?\n",
    "# size = 500\n",
    "\n",
    "data = normal(loc=3400, scale=925, size=1000)\n",
    "\n",
    "fsd2 = data.tolist()\n",
    "\n",
    "#count, bins, ignored = plt.hist(data, 30)\n",
    "#plt.show()\n"
   ]
  },
  {
   "cell_type": "code",
   "execution_count": 7,
   "id": "964f23c0",
   "metadata": {},
   "outputs": [
    {
     "data": {
      "text/plain": [
       "122.0"
      ]
     },
     "execution_count": 7,
     "metadata": {},
     "output_type": "execute_result"
    }
   ],
   "source": [
    "# Set Parameters For:\n",
    "# 0. Fracture Rate\n",
    "rfrac2 = .7\n",
    "# 1. Weld Rate\n",
    "rweld2 = .2\n",
    "# 2. No event (1- (Weld+Fract))\n",
    "rnone2 = .1\n",
    "\n",
    "# Pick a random event to occurr based on the probability of\n",
    "# Each happening\n",
    "\n",
    "sampleList = [0, 1, 2]\n",
    "\n",
    "# list of random events, where num is how many events to pick\n",
    "def random_event2(num):\n",
    "    randomList = random.choices(\n",
    "      sampleList, weights=(rnone2, rfrac2, rweld2), k=num)\n",
    "    return(randomList)\n",
    "\n",
    "\n",
    "def pick_floe(fsd):\n",
    "    randomPick = random.choices(\n",
    "      list(fsd.keys()), weights=(list(fsd.values())), k=1)\n",
    "    return randomPick[0]\n",
    "\n",
    "pick_floe(fsd_dict)\n",
    "\n"
   ]
  },
  {
   "cell_type": "code",
   "execution_count": 8,
   "id": "d29b4db7",
   "metadata": {},
   "outputs": [
    {
     "name": "stdout",
     "output_type": "stream",
     "text": [
      "done\n"
     ]
    }
   ],
   "source": [
    "# add original normal distribution values to the dictionary\n",
    "\n",
    "fsd_dict2 = {}\n",
    "\n",
    "for value in fsd2:\n",
    "    if round(value) in fsd_dict2:\n",
    "        fsd_dict2[round(value)] += 1\n",
    "    else:\n",
    "        fsd_dict2[round(value)] = 1\n",
    "\n",
    "# this value is for the weld loop\n",
    "opt_out = 0\n",
    "\n",
    "# THIS MODEL IS ASSUMING THE PROBABILITY OF CHOOSING A SIZE IS BASED ON AMOUNT \n",
    "\n",
    "events = random_event2(8000)\n",
    "for val in events:\n",
    "    # define all the possible sizes\n",
    "    keys = list(fsd_dict2.keys())\n",
    "    sizes =[]\n",
    "    for item in keys:\n",
    "        if fsd_dict2[item] > 0:\n",
    "            sizes.append(item)\n",
    "    \n",
    "    if val == 0:\n",
    "        continue\n",
    "    if val == 1:   # Fracture occurs\n",
    "        # choose a place to break\n",
    "        \n",
    "        # Randomly chose a place to have a fracture\n",
    "        # and Randomly choose how many it will break in to (4, 16?)\n",
    "\n",
    "        choice = float(pick_floe(fsd_dict2))\n",
    "        new_size = choice/2\n",
    "        \n",
    "        # remove 1 from the bigger value and add 4 to the broken value\n",
    "        fsd_dict2[choice] -= 1\n",
    "        \n",
    "        if new_size in fsd_dict2:\n",
    "            fsd_dict2[new_size] += 4\n",
    "        else:\n",
    "            fsd_dict2[new_size] = 4\n",
    "\n",
    "    if val == 2:   # Weld occurs\n",
    "        # choose a place to weld\n",
    "        # OR Randomly choose a place to have a weld and randomly choose\n",
    "        # how many pieces will weld together (4-16?)\n",
    "        choice = float(pick_floe(fsd_dict2))\n",
    "\n",
    "            \n",
    "        if fsd_dict2[choice] < 4:\n",
    "            # check and see how many there are in our choice\n",
    "            choice_total = fsd_dict2[choice]\n",
    "            \n",
    "            # see how many floes we need\n",
    "            needed_floes = (4 - choice_total)\n",
    "            \n",
    "            for i in range(20):\n",
    "                if opt_out == 1:\n",
    "                    continue\n",
    "                \n",
    "                # check if a sligtly larger floe is available to weld \n",
    "                if (choice + i) in fsd_dict2 and fsd_dict2[(choice + i)] > 0:\n",
    "                    if fsd_dict2[choice + i] >= needed_floes:\n",
    "                        fsd_dict2[choice + i] -= needed_floes\n",
    "                        fsd_dict2[choice] = 0\n",
    "                        opt_out = 1\n",
    "                    \n",
    "                    # change the vals in the dictionary\n",
    "                        if needed_floes >=3:\n",
    "                            new_size = (choice + i)*2\n",
    "                            if new_size in fsd_dict2:\n",
    "                                fsd_dict2[new_size] += 4\n",
    "\n",
    "                            else:\n",
    "                                fsd_dict2[new_size] = 4\n",
    "                        else: \n",
    "                            new_size = (choice + i)+ choice\n",
    "                            if new_size in fsd_dict2:\n",
    "                                fsd_dict2[new_size] += 4\n",
    "\n",
    "                            else:\n",
    "                                fsd_dict2[new_size] = 4\n",
    "                        \n",
    "        \n",
    "\n",
    "print(\"done\")"
   ]
  },
  {
   "cell_type": "code",
   "execution_count": 10,
   "id": "79f476cf",
   "metadata": {},
   "outputs": [
    {
     "ename": "ValueError",
     "evalue": "too many values to unpack (expected 3)",
     "output_type": "error",
     "traceback": [
      "\u001b[1;31m---------------------------------------------------------------------------\u001b[0m",
      "\u001b[1;31mValueError\u001b[0m                                Traceback (most recent call last)",
      "Cell \u001b[1;32mIn[10], line 22\u001b[0m\n\u001b[0;32m     20\u001b[0m plt\u001b[38;5;241m.\u001b[39myscale(\u001b[38;5;124m\"\u001b[39m\u001b[38;5;124mlog\u001b[39m\u001b[38;5;124m\"\u001b[39m)\n\u001b[0;32m     21\u001b[0m plt\u001b[38;5;241m.\u001b[39mxscale(\u001b[38;5;124m\"\u001b[39m\u001b[38;5;124mlog\u001b[39m\u001b[38;5;124m\"\u001b[39m)\n\u001b[1;32m---> 22\u001b[0m count, bins, ignored \u001b[38;5;241m=\u001b[39m plt\u001b[38;5;241m.\u001b[39mbar(sizes, result, \u001b[38;5;241m200\u001b[39m)\n",
      "\u001b[1;31mValueError\u001b[0m: too many values to unpack (expected 3)"
     ]
    },
    {
     "data": {
      "image/png": "[encoded data removed]",
      "text/plain": [
       "<Figure size 640x480 with 1 Axes>"
      ]
     },
     "metadata": {},
     "output_type": "display_data"
    }
   ],
   "source": [
    "import numpy as np\n",
    "\n",
    "sizes = list(fsd_dict2.keys())\n",
    "counts = list(fsd_dict2.values())\n",
    "total_count = sum(counts)\n",
    "\n",
    "# result in a separate variable\n",
    "result = [x/total_count for x in counts]\n",
    "\n",
    "result\n",
    "     \n",
    "\n",
    "d = {'sizes': sizes, 'fraction': result}\n",
    "ice = pd.DataFrame(data=d)\n",
    "\n",
    "plt.bar(sizes, counts, width = 0)\n",
    "plt.xlabel(\"Width (m)\")\n",
    "plt.ylabel(\"Count\")\n",
    "plt.title(\"Model For FSD\")\n",
    "plt.yscale(\"log\")\n",
    "plt.xscale(\"log\")\n",
    "count, bins, ignored = plt.bar(sizes, result, 200)\n",
    "\n"
   ]
  }
 ],
 "metadata": {
  "kernelspec": {
   "display_name": "Python 3 (ipykernel)",
   "language": "python",
   "name": "python3"
  },
  "language_info": {
   "codemirror_mode": {
    "name": "ipython",
    "version": 3
   },
   "file_extension": ".py",
   "mimetype": "text/x-python",
   "name": "python",
   "nbconvert_exporter": "python",
   "pygments_lexer": "ipython3",
   "version": "3.11.3"
  }
 },
 "nbformat": 4,
 "nbformat_minor": 5
}
