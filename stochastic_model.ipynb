{
 "cells": [
  {
   "cell_type": "code",
   "execution_count": 34,
   "id": "131182c3",
   "metadata": {},
   "outputs": [],
   "source": [
    "import pandas as pd\n",
    "import matplotlib.pyplot as plt\n",
    "import random\n",
    "import time\n",
    "from numpy.random import normal\n",
    "import numpy as np\n",
    "from sklearn.linear_model import LinearRegression\n",
    "import math"
   ]
  },
  {
   "cell_type": "code",
   "execution_count": 2,
   "id": "fc374b15",
   "metadata": {},
   "outputs": [
    {
     "data": {
      "image/png": "[encoded data removed]",
      "text/plain": [
       "<Figure size 640x480 with 1 Axes>"
      ]
     },
     "metadata": {},
     "output_type": "display_data"
    }
   ],
   "source": [
    "# Start with a normal distribution for the original floe sizes\n",
    "# with mean = 3,400 meters...?\n",
    "# size = 500\n",
    "\n",
    "data = normal(loc=3400, scale=925, size=3000)\n",
    "\n",
    "fsd = data.tolist()\n",
    "\n",
    "count, bins, ignored = plt.hist(data, 30)\n",
    "plt.show()\n"
   ]
  },
  {
   "cell_type": "code",
   "execution_count": 3,
   "id": "e14276a3",
   "metadata": {},
   "outputs": [],
   "source": [
    "# Set Parameters For:\n",
    "# 0. Fracture Rate\n",
    "rfrac = .7\n",
    "# 1. Weld Rate\n",
    "rweld = .2\n",
    "# 2. No event (1- (Weld+Fract))\n",
    "rnone = .1\n",
    "\n",
    "# Pick a random event to occurr based on the probability of\n",
    "# Each happening\n",
    "\n",
    "sampleList = [0, 1, 2]\n",
    "\n",
    "# list of random events, where num is how many events to pick\n",
    "def random_event(num):\n",
    "    randomList = random.choices(\n",
    "      sampleList, weights=(rnone, rfrac, rweld), k=num)\n",
    "    return(randomList)"
   ]
  },
  {
   "cell_type": "code",
   "execution_count": null,
   "id": "41d4fcd6",
   "metadata": {},
   "outputs": [],
   "source": []
  },
  {
   "cell_type": "markdown",
   "id": "56c19e3f",
   "metadata": {},
   "source": [
    "## Equal Probability Model"
   ]
  },
  {
   "cell_type": "code",
   "execution_count": 4,
   "id": "4cf46e80",
   "metadata": {},
   "outputs": [],
   "source": [
    "# add original normal distribution values to the dictionary\n",
    "\n",
    "fsd_dict = {}\n",
    "\n",
    "for value in fsd:\n",
    "    if round(value) in fsd_dict:\n",
    "        fsd_dict[round(value)] += 1\n",
    "    else:\n",
    "        fsd_dict[round(value)] = 1\n",
    "\n",
    "# this value is for the weld loop\n",
    "opt_out = 0\n",
    "\n",
    "# THIS MODEL IS ASSUMING THE PROBABILITY OF CHOOSING A SIZE IS EQUAL \n",
    "\n",
    "events = random_event(8000)\n",
    "for val in events:\n",
    "    # define all the possible sizes\n",
    "    keys = list(fsd_dict.keys())\n",
    "    sizes =[]\n",
    "    for item in keys:\n",
    "        if fsd_dict[item] > 0:\n",
    "            sizes.append(item)\n",
    "    \n",
    "    if val == 0:\n",
    "        continue\n",
    "    if val == 1:   # Fracture occurs\n",
    "        # choose a place to break\n",
    "        \n",
    "        # Randomly chose a place to have a fracture\n",
    "        # and Randomly choose how many it will break in to (4, 16?)\n",
    "\n",
    "        choice = float(random.choice(sizes))\n",
    "        options = [4,16]\n",
    "        split = float(random.choice(options))\n",
    "        if split == 4:    \n",
    "            new_size = choice/2\n",
    "        \n",
    "        # remove 1 from the bigger value and add 4 to the broken value\n",
    "            fsd_dict[choice] -= 1\n",
    "            \n",
    "            if new_size in fsd_dict:\n",
    "                fsd_dict[new_size] += 4\n",
    "            else:\n",
    "                fsd_dict[new_size] = 4\n",
    "                \n",
    "        if split == 16:\n",
    "            new_size = choice/4\n",
    "            fsd_dict[choice] -= 1\n",
    "            if new_size in fsd_dict:\n",
    "                fsd_dict[new_size] += 16\n",
    "            else:\n",
    "                fsd_dict[new_size] = 16\n",
    "\n",
    "    if val == 2:   # Weld occurs\n",
    "        # choose a place to weld\n",
    "        # OR Randomly choose a place to have a weld and randomly choose\n",
    "        # how many pieces will weld together (4-16?)\n",
    "        choice = float(random.choice(sizes))\n",
    "\n",
    "            \n",
    "        if fsd_dict[choice] < 4:\n",
    "            # check and see how many there are in our choice\n",
    "            choice_total = fsd_dict[choice]\n",
    "            \n",
    "            # see how many floes we need\n",
    "            needed_floes = (4 - choice_total)\n",
    "            \n",
    "            for i in range(20):\n",
    "                if opt_out == 1:\n",
    "                    continue\n",
    "                \n",
    "                # check if a sligtly larger floe is available to weld \n",
    "                if (choice + i) in fsd_dict and fsd_dict[(choice + i)] > 0:\n",
    "                    if fsd_dict[choice + i] >= needed_floes:\n",
    "                        fsd_dict[choice + i] -= needed_floes\n",
    "                        fsd_dict[choice] = 0\n",
    "                        opt_out = 1\n",
    "                    \n",
    "                    # change the vals in the dictionary\n",
    "                        if needed_floes >=3:\n",
    "                            new_size = (choice + i)*2\n",
    "                            if new_size in fsd_dict:\n",
    "                                fsd_dict[new_size] += 4\n",
    "\n",
    "                            else:\n",
    "                                fsd_dict[new_size] = 4\n",
    "                        else: \n",
    "                            new_size = (choice + i)+ choice\n",
    "                            if new_size in fsd_dict:\n",
    "                                fsd_dict[new_size] += 4\n",
    "\n",
    "                            else:\n",
    "                                fsd_dict[new_size] = 4\n",
    "                        \n",
    "        \n",
    "\n"
   ]
  },
  {
   "cell_type": "code",
   "execution_count": null,
   "id": "57dd6bfc",
   "metadata": {},
   "outputs": [],
   "source": []
  },
  {
   "cell_type": "code",
   "execution_count": 5,
   "id": "ae0b91e4",
   "metadata": {},
   "outputs": [
    {
     "ename": "ValueError",
     "evalue": "too many values to unpack (expected 3)",
     "output_type": "error",
     "traceback": [
      "\u001b[1;31m---------------------------------------------------------------------------\u001b[0m",
      "\u001b[1;31mValueError\u001b[0m                                Traceback (most recent call last)",
      "Cell \u001b[1;32mIn[5], line 22\u001b[0m\n\u001b[0;32m     20\u001b[0m plt\u001b[38;5;241m.\u001b[39myscale(\u001b[38;5;124m\"\u001b[39m\u001b[38;5;124mlog\u001b[39m\u001b[38;5;124m\"\u001b[39m)\n\u001b[0;32m     21\u001b[0m plt\u001b[38;5;241m.\u001b[39mxscale(\u001b[38;5;124m\"\u001b[39m\u001b[38;5;124mlog\u001b[39m\u001b[38;5;124m\"\u001b[39m)\n\u001b[1;32m---> 22\u001b[0m count, bins, ignored \u001b[38;5;241m=\u001b[39m plt\u001b[38;5;241m.\u001b[39mbar(sizes, result, \u001b[38;5;241m700\u001b[39m)\n",
      "\u001b[1;31mValueError\u001b[0m: too many values to unpack (expected 3)"
     ]
    },
    {
     "data": {
      "image/png": "[encoded data removed]",
      "text/plain": [
       "<Figure size 640x480 with 1 Axes>"
      ]
     },
     "metadata": {},
     "output_type": "display_data"
    }
   ],
   "source": [
    "import numpy as np\n",
    "\n",
    "sizes = list(fsd_dict.keys())\n",
    "counts = list(fsd_dict.values())\n",
    "total_count = sum(counts)\n",
    "\n",
    "# result in a separate variable\n",
    "result = [x/total_count for x in counts]\n",
    "\n",
    "result\n",
    "     \n",
    "\n",
    "d = {'sizes': sizes, 'fraction': counts}\n",
    "ice = pd.DataFrame(data=d)\n",
    "\n",
    "plt.bar(sizes, counts, width = 0)\n",
    "plt.xlabel(\"Width (m)\")\n",
    "plt.ylabel(\"Count\")\n",
    "plt.title(\"Model For FSD\")\n",
    "plt.yscale(\"log\")\n",
    "plt.xscale(\"log\")\n",
    "count, bins, ignored = plt.bar(sizes, result, 700)\n"
   ]
  },
  {
   "cell_type": "markdown",
   "id": "bf090de7",
   "metadata": {},
   "source": [
    "## Other Model (not equal probability)"
   ]
  },
  {
   "cell_type": "code",
   "execution_count": 6,
   "id": "b4acdb9c",
   "metadata": {},
   "outputs": [],
   "source": [
    "# Start with a normal distribution for the original floe sizes\n",
    "# with mean = 3,400 meters...?\n",
    "# size = 500\n",
    "\n",
    "data = normal(loc=3400, scale=925, size=1000)\n",
    "\n",
    "fsd2 = data.tolist()\n",
    "\n",
    "#count, bins, ignored = plt.hist(data, 30)\n",
    "#plt.show()\n"
   ]
  },
  {
   "cell_type": "code",
   "execution_count": 7,
   "id": "964f23c0",
   "metadata": {},
   "outputs": [
    {
     "data": {
      "text/plain": [
       "239.625"
      ]
     },
     "execution_count": 7,
     "metadata": {},
     "output_type": "execute_result"
    }
   ],
   "source": [
    "# Set Parameters For:\n",
    "# 0. Fracture Rate\n",
    "rfrac2 = .7\n",
    "# 1. Weld Rate\n",
    "rweld2 = .2\n",
    "# 2. No event (1- (Weld+Fract))\n",
    "rnone2 = .1\n",
    "\n",
    "# Pick a random event to occurr based on the probability of\n",
    "# Each happening\n",
    "\n",
    "sampleList = [0, 1, 2]\n",
    "\n",
    "# list of random events, where num is how many events to pick\n",
    "def random_event2(num):\n",
    "    randomList = random.choices(\n",
    "      sampleList, weights=(rnone2, rfrac2, rweld2), k=num)\n",
    "    return(randomList)\n",
    "\n",
    "\n",
    "def pick_floe(fsd):\n",
    "    randomPick = random.choices(\n",
    "      list(fsd.keys()), weights=(list(fsd.values())), k=1)\n",
    "    return randomPick[0]\n",
    "\n",
    "pick_floe(fsd_dict)\n",
    "\n"
   ]
  },
  {
   "cell_type": "code",
   "execution_count": 8,
   "id": "d29b4db7",
   "metadata": {},
   "outputs": [],
   "source": [
    "# add original normal distribution values to the dictionary\n",
    "\n",
    "\n",
    "def fsd_function():\n",
    "    # first make a dictionary of a fsd (from normal distribution)\n",
    "    fsd_dict2 = {}\n",
    "    data = normal(loc=3400, scale=925, size=1000)\n",
    "    fsd2 = data.tolist()\n",
    "    \n",
    "    for value in fsd2:\n",
    "        if round(value) in fsd_dict2:\n",
    "            fsd_dict2[round(value)] += 1\n",
    "        else:\n",
    "            fsd_dict2[round(value)] = 1\n",
    "\n",
    "# this value is for the weld loop\n",
    "    opt_out = 0\n",
    "\n",
    "# THIS MODEL IS ASSUMING THE PROBABILITY OF CHOOSING A SIZE IS BASED ON AMOUNT \n",
    "\n",
    "    events = random_event2(8000)\n",
    "    for val in events:\n",
    "        # define all the possible sizes\n",
    "        keys = list(fsd_dict2.keys())\n",
    "        sizes =[]\n",
    "        for item in keys:\n",
    "            if fsd_dict2[item] > 0:\n",
    "                sizes.append(item)\n",
    "    \n",
    "        if val == 0:\n",
    "            continue\n",
    "        if val == 1:   # Fracture occurs\n",
    "            # choose a place to break \n",
    "            # Randomly chose a place to have a fracture\n",
    "            # and Randomly choose how many it will break in to (4, 16?)\n",
    "\n",
    "            choice = float(pick_floe(fsd_dict2))\n",
    "            options = [4,16]\n",
    "            split = float(random.choice(options))\n",
    "            if split == 4:    \n",
    "                new_size = choice/2\n",
    "        \n",
    "        # remove 1 from the bigger value and add 4 to the broken value\n",
    "                fsd_dict2[choice] -= 1\n",
    "            \n",
    "                if new_size in fsd_dict2:\n",
    "                    fsd_dict2[new_size] += 4\n",
    "                else:\n",
    "                    fsd_dict2[new_size] = 4\n",
    "                \n",
    "            if split == 16:\n",
    "                new_size = choice/4\n",
    "                fsd_dict2[choice] -= 1\n",
    "                if new_size in fsd_dict2:\n",
    "                    fsd_dict2[new_size] += 16\n",
    "                else:\n",
    "                    fsd_dict2[new_size] = 16\n",
    "\n",
    "\n",
    "        if val == 2:   # Weld occurs\n",
    "            # choose a place to weld\n",
    "            # OR Randomly choose a place to have a weld and randomly choose\n",
    "            # how many pieces will weld together (4-16?)\n",
    "            choice = float(pick_floe(fsd_dict2))\n",
    "\n",
    "            \n",
    "            if fsd_dict2[choice] < 4:\n",
    "                # check and see how many there are in our choice\n",
    "                choice_total = fsd_dict2[choice]\n",
    "            \n",
    "                # see how many floes we need\n",
    "                needed_floes = (4 - choice_total)\n",
    "            \n",
    "                for i in range(20):\n",
    "                    if opt_out == 1:\n",
    "                        continue\n",
    "                \n",
    "                # check if a sligtly larger floe is available to weld \n",
    "                    if (choice + i) in fsd_dict2 and fsd_dict2[(choice + i)] > 0:\n",
    "                        if fsd_dict2[choice + i] >= needed_floes:\n",
    "                            fsd_dict2[choice + i] -= needed_floes\n",
    "                            fsd_dict2[choice] = 0\n",
    "                            opt_out = 1\n",
    "                    \n",
    "                    # change the vals in the dictionary\n",
    "                            if needed_floes >=3:\n",
    "                                new_size = (choice + i)*2\n",
    "                                if new_size in fsd_dict2:\n",
    "                                    fsd_dict2[new_size] += 4\n",
    "\n",
    "                                else:\n",
    "                                    fsd_dict2[new_size] = 4\n",
    "                            else: \n",
    "                                new_size = (choice + i)+ choice\n",
    "                                if new_size in fsd_dict2:\n",
    "                                    fsd_dict2[new_size] += 4\n",
    "\n",
    "                                else:\n",
    "                                    fsd_dict2[new_size] = 4\n",
    "    return fsd_dict2\n",
    "# the output of this function is a dictionary of the fsd\n",
    "\n"
   ]
  },
  {
   "cell_type": "markdown",
   "id": "1c86e3dd",
   "metadata": {},
   "source": [
    "## Finding averages"
   ]
  },
  {
   "cell_type": "code",
   "execution_count": 55,
   "id": "73690a1d",
   "metadata": {},
   "outputs": [
    {
     "name": "stdout",
     "output_type": "stream",
     "text": [
      "0\n",
      "1\n",
      "2\n"
     ]
    }
   ],
   "source": [
    "for i in range(3):\n",
    "    print(i)"
   ]
  },
  {
   "cell_type": "code",
   "execution_count": 56,
   "id": "f82db982",
   "metadata": {},
   "outputs": [],
   "source": [
    "# Binning Function\n",
    "\n",
    "def binning(dictionary, binsize):\n",
    "    binned = {}\n",
    "    sizes = []\n",
    "    for i in range(50):\n",
    "        if i != 0:\n",
    "            sizes.append(i*binsize)\n",
    "    for size in sizes:\n",
    "        binned[size] = 0\n",
    "        \n",
    "    for value in dictionary:\n",
    "        floe_count = dictionary[value]\n",
    "        opt_out = 0\n",
    "        for size in sizes:\n",
    "            if opt_out == 1:\n",
    "                continue\n",
    "            elif value < size and value > 0:\n",
    "                binned[size] += floe_count\n",
    "                opt_out = 1\n",
    "                \n",
    "        \n",
    "    return binned"
   ]
  },
  {
   "cell_type": "code",
   "execution_count": 52,
   "id": "3ffc0d58",
   "metadata": {},
   "outputs": [],
   "source": [
    "def fsd_trials(trial_amount, binsize):\n",
    "    \n",
    "    averages = {}\n",
    "    for i in range(trial_amount):\n",
    "        # calls fsd function to get a dict\n",
    "        fsd = fsd_function()\n",
    "        for value in fsd:\n",
    "            if value in averages:\n",
    "                averages[value].append(fsd[value])\n",
    "            else:\n",
    "                averages[value] = []\n",
    "                averages[value].append(fsd[value])\n",
    "\n",
    "    for value in averages:\n",
    "        total = 0\n",
    "        for number in averages[value]:\n",
    "            total += number\n",
    "            averages[value] = total/trial_amount\n",
    "    \n",
    "    # binning the trials with binning function\n",
    "    bin_dict = binning(averages, binsize)\n",
    "    return bin_dict\n"
   ]
  },
  {
   "cell_type": "code",
   "execution_count": 57,
   "id": "24b2dc0b",
   "metadata": {},
   "outputs": [],
   "source": [
    "trial_dict = fsd_trials(10, 500)"
   ]
  },
  {
   "cell_type": "code",
   "execution_count": 77,
   "id": "b43ced75",
   "metadata": {},
   "outputs": [],
   "source": [
    "data = pd.DataFrame(\n",
    "    {'width': list(trial_dict.keys()),\n",
    "     'count': list(trial_dict.values())}) # load data set\n"
   ]
  },
  {
   "cell_type": "code",
   "execution_count": 76,
   "id": "9ea359c6",
   "metadata": {},
   "outputs": [
    {
     "data": {
      "image/png": "[encoded data removed]",
      "text/plain": [
       "<Figure size 640x480 with 1 Axes>"
      ]
     },
     "metadata": {},
     "output_type": "display_data"
    }
   ],
   "source": [
    "from scipy.optimize import curve_fit\n",
    "\n",
    "def power_law(x, a, b):\n",
    "    return a * np.power(x, -b)\n",
    "\n",
    "width_list = data.iloc[:,0].to_numpy(dtype=float)\n",
    "count_list = data.iloc[:,1].to_numpy(dtype=float)\n",
    "\n",
    "plt.loglog(width_list, count_list, label='given data')\n",
    "\n",
    "popt, pcov = curve_fit(power_law, width_list, count_list, p0=[1, 1], bounds=[[1e-3, 1e-3], [1e10, 20]])\n",
    "\n",
    "plt.plot(index_list, power_law(index_list, *popt), label='power law')\n",
    "plt.legend()\n",
    "plt.show()"
   ]
  },
  {
   "cell_type": "code",
   "execution_count": 78,
   "id": "79f476cf",
   "metadata": {},
   "outputs": [
    {
     "data": {
      "image/png": "[encoded data removed]",
      "text/plain": [
       "<Figure size 640x480 with 1 Axes>"
      ]
     },
     "metadata": {},
     "output_type": "display_data"
    }
   ],
   "source": [
    "import numpy as np\n",
    "\n",
    "sizes = list(trial_dict.keys())\n",
    "counts = list(trial_dict.values())\n",
    "total_count = sum(counts)\n",
    "\n",
    "\n",
    "plt.plot(sizes, counts)\n",
    "plt.xlabel(\"Width (m)\")\n",
    "plt.ylabel(\"Count\")\n",
    "plt.title(\"Model For FSD\")\n",
    "plt.yscale(\"log\")\n",
    "plt.xscale(\"log\")\n",
    "#count, bins, ignored = plt.line(sizes, result)\n"
   ]
  },
  {
   "cell_type": "code",
   "execution_count": 18,
   "id": "e8c82d64",
   "metadata": {},
   "outputs": [],
   "source": [
    "# install by `pip install powerlaw`\n",
    "import powerlaw\n",
    "import matplotlib.pyplot as plt\n",
    "\n",
    "def check_power_law_distribution(size_distribution):\n",
    "    sizes = list(size_distribution.keys())\n",
    "    counts = list(size_distribution.values())\n",
    "\n",
    "    # Fit power law model\n",
    "    fit = powerlaw.Fit(sizes, xmin=min(sizes))\n",
    "\n",
    "    # Plot the distribution and power law fit\n",
    "    fit.plot_ccdf(color='r', linewidth=2)\n",
    "    fit.power_law.plot_ccdf(color='g', linestyle='--', ax=plt.gca())\n",
    "\n",
    "    # Perform goodness-of-fit test\n",
    "    R, p_value = fit.distribution_compare('power_law', 'exponential', normalized_ratio=True)\n",
    "\n",
    "    if p_value < 0.05:\n",
    "        print(\"The size distribution is not a good fit for a power law distribution.\", p_value)\n",
    "    else:\n",
    "        print(\"The size distribution is a good fit for a power law distribution.\", p_value)\n",
    "\n",
    "    plt.xlabel('Node Size')\n",
    "    plt.ylabel('Complementary Cumulative Distribution Function (CCDF)')\n",
    "    plt.title('Size Distribution and Power Law Fit')\n",
    "    plt.show()"
   ]
  },
  {
   "cell_type": "code",
   "execution_count": 19,
   "id": "3c8403fc",
   "metadata": {},
   "outputs": [
    {
     "name": "stderr",
     "output_type": "stream",
     "text": [
      "Values less than or equal to 0 in data. Throwing out 0 or negative values\n"
     ]
    },
    {
     "name": "stdout",
     "output_type": "stream",
     "text": [
      "Calculating best minimal value for power law fit\n",
      "xmin progress: 00%\r",
      "xmin progress: 02%\r",
      "xmin progress: 04%\r",
      "xmin progress: 06%\r",
      "xmin progress: 08%\r",
      "xmin progress: 10%\r",
      "xmin progress: 12%\r",
      "xmin progress: 14%\r",
      "xmin progress: 16%\r",
      "xmin progress: 18%\r",
      "xmin progress: 20%\r",
      "xmin progress: 22%\r",
      "xmin progress: 25%\r",
      "xmin progress: 27%\r",
      "xmin progress: 29%\r",
      "xmin progress: 31%\r",
      "xmin progress: 33%\r",
      "xmin progress: 35%\r",
      "xmin progress: 37%\r",
      "xmin progress: 39%\r",
      "xmin progress: 41%\r",
      "xmin progress: 43%\r",
      "xmin progress: 45%\r",
      "xmin progress: 47%\r",
      "xmin progress: 50%\r",
      "xmin progress: 52%\r",
      "xmin progress: 54%\r",
      "xmin progress: 56%\r",
      "xmin progress: 58%\r",
      "xmin progress: 60%\r",
      "xmin progress: 62%\r",
      "xmin progress: 64%\r",
      "xmin progress: 66%\r",
      "xmin progress: 68%\r",
      "xmin progress: 70%\r",
      "xmin progress: 72%\r",
      "xmin progress: 75%\r",
      "xmin progress: 77%\r",
      "xmin progress: 79%\r",
      "xmin progress: 81%\r",
      "xmin progress: 83%\r",
      "xmin progress: 85%\r",
      "xmin progress: 87%\r",
      "xmin progress: 89%\r",
      "xmin progress: 91%\r",
      "xmin progress: 93%\r",
      "xmin progress: 95%\r",
      "xmin progress: 97%\r",
      "The size distribution is not a good fit for a power law distribution. 0.002143414208880966\n"
     ]
    },
    {
     "data": {
      "image/png": "[encoded data removed]",
      "text/plain": [
       "<Figure size 640x480 with 1 Axes>"
      ]
     },
     "metadata": {},
     "output_type": "display_data"
    }
   ],
   "source": [
    "check_power_law_distribution(trial_dict)"
   ]
  }
 ],
 "metadata": {
  "kernelspec": {
   "display_name": "Python 3 (ipykernel)",
   "language": "python",
   "name": "python3"
  },
  "language_info": {
   "codemirror_mode": {
    "name": "ipython",
    "version": 3
   },
   "file_extension": ".py",
   "mimetype": "text/x-python",
   "name": "python",
   "nbconvert_exporter": "python",
   "pygments_lexer": "ipython3",
   "version": "3.11.3"
  }
 },
 "nbformat": 4,
 "nbformat_minor": 5
}
