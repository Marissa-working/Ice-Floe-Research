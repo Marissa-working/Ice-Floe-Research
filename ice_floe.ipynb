{
 "cells": [
  {
   "cell_type": "code",
   "execution_count": 325,
   "id": "70a0fa47",
   "metadata": {},
   "outputs": [],
   "source": [
    "import pandas as pd\n",
    "import matplotlib.pyplot as plt\n",
    "import random\n",
    "import time"
   ]
  },
  {
   "cell_type": "code",
   "execution_count": 428,
   "id": "feef52d5",
   "metadata": {},
   "outputs": [
    {
     "name": "stderr",
     "output_type": "stream",
     "text": [
      "C:\\Users\\evtol\\AppData\\Local\\Temp\\ipykernel_31096\\1296956707.py:1: DtypeWarning: Columns (1,2,4,5,6,7,8,9,10,11,12,13,14,15) have mixed types. Specify dtype option on import or set low_memory=False.\n",
      "  ocean_df = pd.read_csv(\"ocean.csv\")[[\"latitude\", \"WavePeriod\"]].dropna()[1:].astype(float)\n"
     ]
    }
   ],
   "source": [
    "ocean_df = pd.read_csv(\"ocean.csv\")[[\"latitude\", \"WavePeriod\"]].dropna()[1:].astype(float)\n",
    "north_df = ocean_df[ocean_df[\"latitude\"] >= 45]\n"
   ]
  },
  {
   "cell_type": "code",
   "execution_count": 429,
   "id": "d72482a6",
   "metadata": {},
   "outputs": [
    {
     "data": {
      "text/plain": [
       "(array([1.72060e+04, 1.90349e+05, 1.28952e+05, 1.49826e+05, 3.52090e+04,\n",
       "        1.71960e+04, 1.65200e+03, 1.11000e+02, 3.60000e+01, 8.00000e+00]),\n",
       " array([ 2. ,  3.6,  5.2,  6.8,  8.4, 10. , 11.6, 13.2, 14.8, 16.4, 18. ]),\n",
       " <BarContainer object of 10 artists>)"
      ]
     },
     "execution_count": 429,
     "metadata": {},
     "output_type": "execute_result"
    },
    {
     "data": {
      "image/png": "[encoded data removed]",
      "text/plain": [
       "<Figure size 432x288 with 1 Axes>"
      ]
     },
     "metadata": {
      "needs_background": "light"
     },
     "output_type": "display_data"
    }
   ],
   "source": [
    "waves = north_df.iloc[:,1].tolist()\n",
    "\n",
    "plt.hist(waves)"
   ]
  },
  {
   "cell_type": "code",
   "execution_count": 430,
   "id": "e3681efb",
   "metadata": {},
   "outputs": [],
   "source": [
    "def rand_period():\n",
    "    pick = random.choice(waves)\n",
    "    return pick\n",
    "\n",
    "def rand_wave():\n",
    "    pick = rand_period()\n",
    "    wavelength = (9.8 * pick)/(2*3.14)\n",
    "    return (wavelength, pick)\n",
    "\n",
    "# result is wavelength, time period\n",
    "\n",
    "wavelength, time_period = rand_wave()        \n"
   ]
  },
  {
   "cell_type": "code",
   "execution_count": 431,
   "id": "c166c983",
   "metadata": {},
   "outputs": [],
   "source": [
    "fsd = {}\n",
    "\n",
    "fsd[24000.0] = 1                          # ice width in meters\n",
    "total_time = 0\n",
    "break_num = 0\n",
    "\n",
    "for i in range(3600):\n",
    "    if total_time >= 86400:                 # stops after one day has passed\n",
    "        break\n",
    "    sizes = list(fsd.keys())               # get a list of all the available sizes \n",
    "    location = float(random.choice(sizes))   # choose a random spot were the ice will split\n",
    "    wavelength, time_period = rand_wave()         # get a random wavelength\n",
    "    total_time += time_period\n",
    "    if fsd[location] == 0:\n",
    "        continue\n",
    "    elif location/wavelength > 1:            # see if the ice will break\n",
    "        break_num += 1\n",
    "        new_ice = location/2              # make a variable for the new ice dimensions  \n",
    "        fsd[location] += -1\n",
    "        if new_ice in fsd:                 # check and see if this new ice is in the dict\n",
    "            fsd[new_ice] += 4              # add four to the count (bc ice divides into four pices)\n",
    "                       # remove one from the old size since it broke\n",
    "        else:                              \n",
    "            fsd[new_ice] = 4               # if not in dict, add to dict\n",
    "\n",
    "bps = (break_num/86400)  # breaks per second\n",
    "bpm = bps* 60   # breaks per minute\n",
    "\n"
   ]
  },
  {
   "cell_type": "code",
   "execution_count": 427,
   "id": "79d5db60",
   "metadata": {},
   "outputs": [
    {
     "data": {
      "text/plain": [
       "Text(0, 0.5, 'Count')"
      ]
     },
     "execution_count": 427,
     "metadata": {},
     "output_type": "execute_result"
    },
    {
     "data": {
      "image/png": "[encoded data removed]",
      "text/plain": [
       "<Figure size 864x288 with 1 Axes>"
      ]
     },
     "metadata": {
      "needs_background": "light"
     },
     "output_type": "display_data"
    }
   ],
   "source": [
    "sizes = list(fsd.keys()) \n",
    "counts = list(fsd.values())\n",
    "\n",
    "d = {'sizes': sizes, 'count': counts}\n",
    "ice = pd.DataFrame(data=d)\n",
    "\n",
    "\n",
    "ax = ice.plot.line(x=\"sizes\", y=\"count\", figsize=(12, 4))\n",
    "ax.set_title(\"Floe Size Distribution\")\n",
    "ax.set_xlabel(\"Width (m)\")\n",
    "ax.set_ylabel(\"Count\")"
   ]
  }
 ],
 "metadata": {
  "kernelspec": {
   "display_name": "Python 3 (ipykernel)",
   "language": "python",
   "name": "python3"
  },
  "language_info": {
   "codemirror_mode": {
    "name": "ipython",
    "version": 3
   },
   "file_extension": ".py",
   "mimetype": "text/x-python",
   "name": "python",
   "nbconvert_exporter": "python",
   "pygments_lexer": "ipython3",
   "version": "3.9.12"
  }
 },
 "nbformat": 4,
 "nbformat_minor": 5
}
